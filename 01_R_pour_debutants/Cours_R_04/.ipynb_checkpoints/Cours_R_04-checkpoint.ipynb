{
 "cells": [
  {
   "cell_type": "markdown",
   "id": "01e17ba8",
   "metadata": {},
   "source": [
    "# Traitement des données et analyse statistique avec dplyr\n",
    "\n",
    "![](https://www.icem7.fr/wp-content/uploads/2020/11/tidyverse-1024x512.jpg)"
   ]
  },
  {
   "cell_type": "markdown",
   "id": "90a7bd31",
   "metadata": {},
   "source": [
    "\n",
    "## qu'est ce que c'est dplyr\n",
    "\n",
    "`dplyr` est une grammaire de manipulation de données, fournissant un ensemble cohérent de verbes qui vous aident à résoudre les défis de manipulation de données les plus courants:\n",
    "\n",
    "![](https://encrypted-tbn0.gstatic.com/images?q=tbn:ANd9GcQ1_6A3mVMg-owflkFlQ6tpcWdo8-5vXl9EcAnHMbvLp220c69jT1_ACJBcvz5AjvTtac4&usqp=CAU)"
   ]
  },
  {
   "cell_type": "code",
   "execution_count": 4,
   "id": "770f1017",
   "metadata": {},
   "outputs": [],
   "source": [
    "suppressPackageStartupMessages({\n",
    "library(readxl)\n",
    "library(dplyr)\n",
    "library(tidyr)\n",
    "\n",
    "})\n",
    "options(scipen = 999)"
   ]
  },
  {
   "cell_type": "code",
   "execution_count": null,
   "id": "5a035deb",
   "metadata": {},
   "outputs": [],
   "source": [
    "fao_fbs=as.data.frame(read.csv(\"data/FAO_FBS_Senegal.csv\"))\n",
    "str(fao_fbs)\n",
    "head(fao_fbs)\n",
    "names(fao_fbs)"
   ]
  },
  {
   "cell_type": "code",
   "execution_count": null,
   "id": "777b9880",
   "metadata": {},
   "outputs": [],
   "source": [
    "fao_cdu=as.data.frame(read.csv(\"data/FAO_CDU_Senegal.csv\"))\n",
    "str(fao_cdu)\n",
    "head(fao_cdu)"
   ]
  },
  {
   "cell_type": "code",
   "execution_count": null,
   "id": "0381dfcd",
   "metadata": {},
   "outputs": [],
   "source": [
    "path_mb=\"data/indicateur_BM_Senegal.xls\"\n",
    "excel_sheets(path_mb)\n",
    "donnee_bm=as.data.frame(read_excel(path_mb,sheet = \"Data\",skip = 3))\n",
    "str(donnee_bm)\n",
    "head(donnee_bm)"
   ]
  },
  {
   "cell_type": "code",
   "execution_count": null,
   "id": "cbbb8116",
   "metadata": {},
   "outputs": [],
   "source": [
    "path_fmi=\"data/FMI_PIB_et_composantes.xlsx\"\n",
    "excel_sheets(path_fmi)\n",
    "donnee_fmi=as.data.frame(read_excel(path_fmi,sheet = \"Annual\",skip = 6))\n",
    "head(donnee_fmi)\n",
    "str(donnee_fmi)"
   ]
  },
  {
   "attachments": {},
   "cell_type": "markdown",
   "id": "696e60b8",
   "metadata": {},
   "source": [
    "## dplyr::select\n",
    "\n",
    "![](https://uw-madison-datascience.github.io/2019-09-11-uwmadison-dc/slides/dplyr/dplyr-2.png)"
   ]
  },
  {
   "cell_type": "markdown",
   "id": "02e04404",
   "metadata": {},
   "source": [
    "Sélectionner (et renommer éventuellement) des variables dans un data.frame, en utilisant un mini-langage concis qui facilite la référence aux variables en fonction de leur nom (par exemple, sélectionner toutes les colonnes de a à gauche à f à droite). \n",
    "Vous pouvez également utiliser des fonctions de **prédicat** comme **is.numeric** pour sélectionner des variables en fonction de leurs propriétés.\n",
    "\n",
    "\n",
    "Les sélections de dplyr implémentent un dialecte de R où les opérateurs facilitent la sélection\n",
    "variables:\n",
    "\n",
    "* `:` pour sélectionner une plage de variables consécutives.\n",
    "\n",
    "* `!` pour prendre le complément d'un ensemble de variables.\n",
    "\n",
    "* `&` et `|` pour sélectionner l'intersection ou l'union de deux ensembles de variables.\n",
    "\n",
    "* `c()` pour combiner des sélections.\n",
    "\n",
    "De plus, vous pouvez utiliser des aides à la sélection. \n",
    "Certains assistants(helpers) sélectionnent des colonnes spécifiques:\n",
    "\n",
    "* `everything()`: correspond à toutes les variables.\n",
    "\n",
    "* `last_col()`: Sélectionnez la dernière variable\n",
    "\n",
    "Ces assistants sélectionnent des variables en faisant correspondre des modèles dans leurs noms:\n",
    "\n",
    "* `starts_with()`: commence par un pre x.\n",
    "\n",
    "* `ends_with()`: se termine par un su x.\n",
    "\n",
    "* `contains()`: contient une chaîne littérale.\n",
    " \n",
    "* `matches()`: correspond à une expression régulière.\n",
    "\n",
    "* `num_range()`: correspond à une plage numérique telle que x01, x02, x03.\n",
    "\n",
    "Ces assistants sélectionnent des variables à partir d'un vecteur de caractères:\n",
    "\n",
    "* `all_of()`: correspond aux noms de variables dans un vecteur de caractères. Tous les noms doivent être présents, sinon, une erreur hors limites est émise.\n",
    "\n",
    "* `all_of()`: Identique à tout (), sauf qu'aucune erreur n'est renvoyée pour les noms qui ne\n",
    "exister.\n",
    "\n",
    "Cet assistant sélectionne les variables avec une fonction:\n",
    "\n",
    "* `where()`: applique une fonction à toutes les variables et sélectionne celles pour lesquelles la fonction\n",
    "renvoie TRUE."
   ]
  },
  {
   "cell_type": "code",
   "execution_count": null,
   "id": "3987977d",
   "metadata": {},
   "outputs": [],
   "source": []
  },
  {
   "cell_type": "code",
   "execution_count": null,
   "id": "09d8797a",
   "metadata": {},
   "outputs": [],
   "source": [
    "select(fao_cdu,Element,Item,Year,Unit,Flag,Flag.Description)\n",
    "fao_cdu %>% select(Element,Item,Year,Unit,Flag,Flag.Description)\n",
    "fao_cdu %>% select(contains(\"Code\"))\n",
    "fao_cdu %>% select(!contains(\"Code\"))\n",
    "fao_cdu %>% select(ends_with(\"Code\"))\n",
    "fao_cdu %>% select(where(is.numeric))\n",
    "fao_cdu %>% select(is.numeric)\n",
    "fao_cdu %>% select(!is.numeric & !contains(\"Domain\"))\n",
    "fao_fbs %>% select(DC=`ï..Domain.Code`, `The name I want`=Domain,valeur=Value)\n",
    "annee=as.character(2000:2020)\n",
    "annee2=as.character(2010:2035)\n",
    "donnee_bm %>% select(all_of(annee))\n",
    "# donnee_bm %>% select(all_of(annee2))\n",
    "donnee_bm %>% select(any_of(annee2))\n",
    "donnee_fmi %>% select(is.character)\n"
   ]
  },
  {
   "cell_type": "markdown",
   "id": "f19569c9",
   "metadata": {},
   "source": [
    "## dplyr::filter\n",
    "\n",
    "![](http://ohi-science.org/data-science-training/img/rstudio-cheatsheet-filter.png)\n",
    "La fonction filter () est utilisée pour sous-ensemble un bloc de données, en conservant toutes les lignes qui satisfont votre conditions. Pour être conservée, la ligne doit produire une valeur TRUE pour toutes les conditions. Remarque que lorsqu'une condition est évaluée à NA, la ligne sera supprimée, contrairement au sous-ensemble de base avec\n",
    "[.\n",
    "\n",
    "Fonctions de filtre utiles\n",
    "Il existe de nombreuses fonctions et opérateurs utiles lors de la construction des expressions\n",
    "utilisé pour filtrer les données:\n",
    "\n",
    " * ==, >, >= etc\n",
    " \n",
    " * &, |, !, xor()\n",
    " \n",
    " * is.na()\n",
    " \n",
    " * between(), near()\n"
   ]
  },
  {
   "cell_type": "code",
   "execution_count": null,
   "id": "f8e533aa",
   "metadata": {},
   "outputs": [],
   "source": []
  },
  {
   "cell_type": "code",
   "execution_count": null,
   "id": "4a3bab91",
   "metadata": {},
   "outputs": [],
   "source": [
    "```{r filtrer}\n",
    "unique(fao_fbs$Element)\n",
    "fao_fbs %>% filter(Element==\"Production\")\n",
    "fao_fbs %>% filter(Element %in% c(\"Production\",\"Import Quantity\"))\n",
    "fao_fbs %>% filter(Value>100)\n",
    "fao_fbs %>% filter(Value>100 & Element.Code==5510)\n",
    "donnee_bm %>% filter(is.na(`2020`))\n",
    "donnee_bm %>% select(`Indicator Name`,`Indicator Code`,`2020`) %>% filter(is.na(`2020`))"
   ]
  },
  {
   "cell_type": "markdown",
   "id": "ae076170",
   "metadata": {},
   "source": [
    "## dplyr::mutate\n",
    "\n",
    "![](http://ohi-science.org/data-science-training/img/rstudio-cheatsheet-mutate.png)\n",
    "mutate () ajoute de nouvelles variables et préserve celles existantes; transmute () ajoute de nouvelles variables\n",
    "et supprime ceux existants. Les nouvelles variables écrasent les variables existantes du même nom.\n",
    "Les variables peuvent être supprimées en définissant leur valeur sur NULL.\n",
    "\n",
    "Useful mutate functions\n",
    " `+`, `-`, `log()`, etc., for their usual mathematical meanings\n",
    "` lead()`, `lag()`\n",
    " `dense_ank()`, `min_ank()`, `percent_rank()`, `row_number()`, `cume_dist()`, `ntile()`\n",
    " `cumsum()`, `cummean()`, `cummin()`, `cummax()`, `cumany()`, `cumall()`\n",
    " naif(), `coalesce()`\n",
    " `ifelse()`, `recode()`, `case_when()`"
   ]
  },
  {
   "cell_type": "code",
   "execution_count": null,
   "id": "3b7a1ecc",
   "metadata": {},
   "outputs": [],
   "source": [
    "ao_cdu %>% select(Item,Element,Year,Value) %>% mutate(log_value=log(Value))\n",
    "fao_cdu %>% filter(Item.Code==\"111\" & Element==\"Import Quantity\") %>%  \n",
    "  select(!contains(c(\"code\",\"Flag\"))) %>% \n",
    "  mutate(Q1=quantile(Value,0.25,na.rm=TRUE),\n",
    "         moyenne=mean(Value,na.rm=TRUE))\n",
    "donnee_bm %>% mutate_if(is.numeric,round,1)\n",
    "test=donnee_bm %>% select(matches(\"\\\\d\\\\d\\\\d\\\\d\"))\n",
    "test=test %>% mutate_all(round,2)\n",
    "donnee_bm %>% mutate(across(where(is.numeric),~round(.x)))\n",
    "#mutate les variables dont le nom contient un nombre (ici les années)\n",
    "donnee_fmi %>% mutate_at(vars(matches(\"\\\\d\")),as.numeric)\n",
    "donnee_fmi=donnee_fmi %>% mutate_at(vars(matches(\"\\\\d\\\\d\\\\d\\\\d\")),as.numeric)\n",
    "  "
   ]
  },
  {
   "cell_type": "markdown",
   "id": "29b86e51",
   "metadata": {},
   "source": [
    "## dplyr::group_by & summarise\n",
    "\n",
    "![](http://ohi-science.org/data-science-training/img/rstudio-cheatsheet-group_by.png)\n",
    "La plupart des opérations sur les données sont effectuées sur des groupes définis par des variables. group by () prend un data.frame existant et le convertit en un data.frame groupé où les opérations sont effectuées \"par groupe\".\n",
    "\n",
    "ungroup () supprime le regroupement\n",
    "\n"
   ]
  },
  {
   "cell_type": "code",
   "execution_count": null,
   "id": "171773a4",
   "metadata": {},
   "outputs": [],
   "source": [
    "fao_cdu %>% select(!contains(c(\"Code\",\"Flag\"))) %>% group_by(Item)\n",
    "fao_cdu %>% select(!contains(c(\"Code\",\"Flag\"))) %>% group_by(Item,Element) %>% mutate(moyenne=mean(Value,na.rm=TRUE))\n",
    "fao_cdu %>% select(!contains(c(\"Code\",\"Flag\"))) %>% group_by(Item,Element) %>% mutate(moyenne=mean(Value,na.rm=TRUE)) %>% ungroup() %>% mutate(moyenne1=mean(Value,na.rm=TRUE))\n"
   ]
  },
  {
   "cell_type": "markdown",
   "id": "eba717f1",
   "metadata": {},
   "source": [
    "summarise () crée un nouveau data.frame. Il aura une (ou plusieurs) lignes pour chaque combinaison\n",
    "des variables de regroupement (group_by); s'il n'y a pas de variables de regroupement, la sortie aura une seule ligne résumant toutes les observations dans l'entrée. Il contiendra une colonne pour chaque regroupement\n",
    "variable et une colonne pour chacune des statistiques récapitulatives que vous avez spécifiées.\n",
    "summary () et summary () sont des synonymes.\n",
    "\n",
    "![](http://ohi-science.org/data-science-training/img/rstudio-cheatsheet-summarise.png)"
   ]
  },
  {
   "cell_type": "code",
   "execution_count": null,
   "id": "9cedbc72",
   "metadata": {},
   "outputs": [],
   "source": [
    "fao_cdu %>% select(!contains(c(\"Code\",\"Flag\"))) %>% group_by(Item,Element) %>%\n",
    "  summarise(moyenne=mean(Value,na.rm=TRUE),\n",
    "            n_obs=n())"
   ]
  },
  {
   "cell_type": "markdown",
   "id": "f425d9bc",
   "metadata": {},
   "source": [
    "## Les jointures (mutate-join & filter-join)\n",
    "\n",
    "Les jointures de type mutate-join ajoutent des colonnes de y à x, correspondant aux lignes en fonction des clés:\n",
    "\n",
    "* `inner_join(x,y)`: inclut toutes les lignes de x et y.\n",
    "\n",
    "* `left_join(x,y)` : inclut toutes les lignes de x.\n",
    "\n",
    "* `right_join(x,y)`:inclut toutes les lignes de y.\n",
    "\n",
    "* `full_join (x,y)` : inclut toutes les lignes de x ou y.\n",
    "\n",
    "Si une ligne de x correspond à plusieurs lignes de y, toutes les lignes de y seront renvoyées une fois pour chaque\n",
    "ligne correspondante dans x.\n",
    "\n",
    "![](https://data-lessons.github.io/gapminder-R/fig/dplyr-joins.png)"
   ]
  },
  {
   "cell_type": "code",
   "execution_count": null,
   "id": "ab898194",
   "metadata": {},
   "outputs": [],
   "source": [
    "\n",
    "cdu_1=fao_cdu %>%filter(Element.Code==5510) %>% select(Item,Element,Year,Production=Value)\n",
    "cdu_2=fao_cdu %>%filter(Element.Code==5610) %>% select(Item,Element,Year,Importation=Value)\n",
    "cdu_1 %>% left_join(cdu_2)\n",
    "cdu_2 %>% right_join(cdu_1)\n",
    "cdu_1 %>% full_join(cdu_2)\n",
    "cdu_1 %>% anti_join(cdu_2)\n",
    "cdu_2 %>% anti_join(cdu_1)"
   ]
  },
  {
   "cell_type": "markdown",
   "id": "90ffce2a",
   "metadata": {},
   "source": [
    "\n",
    "## tidyr::gather & spread\n",
    "\n",
    "![](https://www.codeproject.com/KB/recipes/5269229/rstudio-cheatsheet-reshaping-data-gather.png)\n"
   ]
  },
  {
   "cell_type": "code",
   "execution_count": null,
   "id": "a8225104",
   "metadata": {},
   "outputs": [],
   "source": [
    "donnee_bm=donnee_bm %>% gather(key = Annee, value = \"Indicateur\",matches(\"\\\\d\\\\d\"))\n"
   ]
  },
  {
   "cell_type": "markdown",
   "id": "c5083f69",
   "metadata": {},
   "source": [
    "## Exercice\n",
    "\n",
    "1. calculter le taux de dépendance au importantion de chaque produits alimentaires (base fao_cdu)\n",
    "2. calculer le taux d'auto-suffisance alimentaire de chaque produit alimentaire\n",
    "3. calculer les depense public en % du PIB\n",
    "4. Calculer la consommation des menage en % du PIB (donnee_fmi)\n",
    "5. Extraire les indicateur n'ayant jamais de données de manquantes depuis 1960 dans la base donnee_bm"
   ]
  }
 ],
 "metadata": {
  "kernelspec": {
   "display_name": "R",
   "language": "R",
   "name": "ir"
  },
  "language_info": {
   "codemirror_mode": "r",
   "file_extension": ".r",
   "mimetype": "text/x-r-source",
   "name": "R",
   "pygments_lexer": "r",
   "version": "3.6.1"
  }
 },
 "nbformat": 4,
 "nbformat_minor": 5
}
