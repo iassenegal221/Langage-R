{
 "cells": [
  {
   "cell_type": "markdown",
   "id": "8331a4c0",
   "metadata": {},
   "source": [
    "# Programmation fonctionnelle sur R"
   ]
  },
  {
   "cell_type": "markdown",
   "id": "95569ee5",
   "metadata": {},
   "source": [
    "## Motivation\n",
    "\n",
    "Considérons de problème suivant: vous avez fini de nétoyer vos données et vous voulez avoir un résumé des variables. Vous pourez écrire un code qui resemblait à ça"
   ]
  },
  {
   "cell_type": "code",
   "execution_count": null,
   "id": "665041ae",
   "metadata": {},
   "outputs": [],
   "source": [
    "mean(df$a)\n",
    "median(df$a)\n",
    "sd(df$a)\n",
    "mad(df$a)\n",
    "IQR(df$a)\n",
    "\n",
    "mean(df$b)\n",
    "median(df$b)\n",
    "sd(df$b)\n",
    "mad(df$b)\n",
    "IQR(df$b)\n",
    ".\n",
    ".\n",
    ".\n",
    "erc"
   ]
  },
  {
   "cell_type": "markdown",
   "id": "06abccc2",
   "metadata": {},
   "source": [
    "Une autre consist à écrire une fonction résumé qui sera appliqué à toutes les variables. C'est plus efficace"
   ]
  },
  {
   "cell_type": "code",
   "execution_count": null,
   "id": "50083d78",
   "metadata": {},
   "outputs": [],
   "source": [
    "summary <- function(x) {\n",
    "  c(mean(x), median(x), sd(x), mad(x), IQR(x))\n",
    "}\n",
    "lapply(df, summary)"
   ]
  },
  {
   "cell_type": "markdown",
   "id": "b4036d3b",
   "metadata": {},
   "source": [
    "## Les fonctions annonymes\n",
    "\n",
    "Les fonctions annonymes sont des fonctions qui n'ont pas de nom. On utilise ces fonctions lorsqu'il n'est pas necessaire nommer la fonction avant de l'utiliser"
   ]
  },
  {
   "cell_type": "code",
   "execution_count": null,
   "id": "a9e8c3c8",
   "metadata": {},
   "outputs": [],
   "source": [
    "lapply(mtcars, function(x) length(unique(x)))\n",
    "Filter(function(x) !is.numeric(x), mtcars)\n",
    "integrate(function(x) sin(x) ^ 2, 0, pi)"
   ]
  },
  {
   "cell_type": "markdown",
   "id": "500a3087",
   "metadata": {},
   "source": [
    "## Closures\n",
    "\n",
    "ce sont des fonction qui renvoit une fonction comme resultat"
   ]
  },
  {
   "cell_type": "code",
   "execution_count": null,
   "id": "08eb0f22",
   "metadata": {},
   "outputs": [],
   "source": [
    "power <- function(exponent) {\n",
    "  function(x) {\n",
    "    x ^ exponent\n",
    "  }\n",
    "}\n",
    "\n",
    "square <- power(2)"
   ]
  },
  {
   "cell_type": "code",
   "execution_count": null,
   "id": "80e54d32",
   "metadata": {},
   "outputs": [],
   "source": [
    "bc <- function(lambda) {\n",
    "  if (lambda == 0) {\n",
    "    function(x) log(x)\n",
    "  } else {\n",
    "    function(x) (x ^ lambda - 1) / lambda\n",
    "  }\n",
    "}"
   ]
  },
  {
   "cell_type": "markdown",
   "id": "3da85def",
   "metadata": {},
   "source": [
    "## la famille Apply"
   ]
  },
  {
   "cell_type": "markdown",
   "id": "24380d6f",
   "metadata": {},
   "source": [
    "**` apply()`**\n",
    "\n",
    "Renvoie un vecteur ou un tableau ou une liste de valeurs obtenues en appliquant une fonction aux marges d'un array ou d'une matrice\n",
    "\n",
    "`apply(X, MARGIN, FUN, …)`"
   ]
  },
  {
   "cell_type": "code",
   "execution_count": null,
   "id": "84e1828f",
   "metadata": {},
   "outputs": [],
   "source": [
    "mymatrix<-matrix(1:9,nrow=3)"
   ]
  },
  {
   "cell_type": "code",
   "execution_count": null,
   "id": "3829cc82",
   "metadata": {},
   "outputs": [],
   "source": [
    "apply(mymatrix,1,sum) #somme des lignes\n",
    "\n",
    "apply(mymatrix,2,sum) #somme des colonnes\n",
    "\n",
    "# on peut aussi inclure les arguments de la fonction\n",
    "apply(mymatrix,1,sum,na.rm=TRUE)"
   ]
  },
  {
   "cell_type": "markdown",
   "id": "d71705fd",
   "metadata": {},
   "source": [
    "**`lapply()`**\n",
    "\n",
    "syntaxe : `lapply(X, FUN,…)`\n",
    "\n",
    "lapply renvoie une <font color=\"red\">liste</font> de même longueur que X, dont chaque élément est le résultat de l'application de FUN à l'élément correspondant de X.\n",
    "\n",
    "<font color=\"red\">Pas besoin de marges</font>"
   ]
  },
  {
   "cell_type": "code",
   "execution_count": null,
   "id": "9ced9f62",
   "metadata": {},
   "outputs": [],
   "source": []
  },
  {
   "cell_type": "code",
   "execution_count": null,
   "id": "33a8e6f3",
   "metadata": {},
   "outputs": [],
   "source": [
    "mylist<-list(A=matrix(1:9,nrow=3),B=1:5,C=8)\n",
    "\n",
    "lapply(mylist,sum)\n",
    "\n",
    "unlist(lapply(mylist,sum))"
   ]
  },
  {
   "cell_type": "markdown",
   "id": "881f68cf",
   "metadata": {},
   "source": [
    "avec une fonction annonyme"
   ]
  },
  {
   "cell_type": "code",
   "execution_count": null,
   "id": "baf45aea",
   "metadata": {},
   "outputs": [],
   "source": [
    "lapply(mylist,function(x) x*20)"
   ]
  },
  {
   "cell_type": "markdown",
   "id": "53662224",
   "metadata": {},
   "source": [
    "**`sapply()`**\n",
    "\n",
    "sapply est une version conviviale de lapply qui retourne par défaut un vecteur, une matrice ou, si simplify = \"array\", un tableau si nécessaire, en appliquant simplify2array().\n",
    "\n",
    "`sapply(x, f, simplify = FALSE, USE.NAMES = FALSE)`  est la même chose que `lapply(x, f)`"
   ]
  },
  {
   "cell_type": "code",
   "execution_count": null,
   "id": "bfbab414",
   "metadata": {},
   "outputs": [],
   "source": [
    "sapply(mylist,sum)"
   ]
  },
  {
   "cell_type": "markdown",
   "id": "00d4f1a4",
   "metadata": {},
   "source": [
    "**`mapply()`**\n",
    "\n",
    "m représente multi-variante apply.\n",
    "\n"
   ]
  },
  {
   "cell_type": "code",
   "execution_count": null,
   "id": "63af5825",
   "metadata": {},
   "outputs": [],
   "source": [
    "x<-c(A=20,B=1,C=40)\n",
    " y<-c(J=430,K=50,L=10)\n",
    "\n",
    "simply<-function(u,v){\n",
    "  (u+v)*2\n",
    "}\n",
    "mapply(simply,x,y)"
   ]
  },
  {
   "cell_type": "markdown",
   "id": "3867d0f1",
   "metadata": {},
   "source": [
    "**`tapply()`**\n",
    "\n",
    "\n",
    "Appliquez une fonction à chaque cellule d'un tableau en escalier, c'est-à-dire à chaque groupe (non vide) de valeurs données par une combinaison unique des niveaux de certains facteurs."
   ]
  },
  {
   "cell_type": "code",
   "execution_count": null,
   "id": "9b3a24f9",
   "metadata": {},
   "outputs": [],
   "source": [
    "tapply(iris$Sepal.Length,iris$Species,max)\n",
    "setosa versicolor  virginica"
   ]
  },
  {
   "cell_type": "code",
   "execution_count": null,
   "id": "6710768f",
   "metadata": {},
   "outputs": [],
   "source": []
  },
  {
   "cell_type": "markdown",
   "id": "3840b677",
   "metadata": {},
   "source": [
    "### En résumé\n",
    "\n",
    "**`apply()`**:- Applique une fonction sur les marges d'un tableau.\n",
    "\n",
    "**`lapply()`**:- Boucle sur une liste et évalue une fonction sur chaque élément.\n",
    "\n",
    "**`sapply()`**:- Identique à lapply mais en essayant de simplifier le résultat.\n",
    "\n",
    "**`mapply()`**:- Version multivariée de lapply\n",
    "\n",
    "**`tapply()`**:-Applique une fonction sur des sous-ensembles d'un vecteur."
   ]
  },
  {
   "cell_type": "markdown",
   "id": "d7cef913",
   "metadata": {},
   "source": [
    "## La famille Map,reduce,walk"
   ]
  },
  {
   "cell_type": "code",
   "execution_count": null,
   "id": "4be810ca",
   "metadata": {},
   "outputs": [],
   "source": [
    "install.packages(\"purr\")\n",
    "library(purrr)\n"
   ]
  },
  {
   "cell_type": "markdown",
   "id": "8f4a4a8d",
   "metadata": {},
   "source": [
    "# map\n",
    "\n",
    "Elle prend un vecteur et une fonction, appelle la fonction une fois pour chaque élément du vecteur, et renvoie les résultats dans une liste. En d'autres termes,` map(1:3, f)` est équivalent à `list(f(1), f(2), f(3))`.\n",
    "<table bgcolor=\"white\">\n",
    "    <tr><td><img src='https://d33wubrfki0l68.cloudfront.net/f0494d020aa517ae7b1011cea4c4a9f21702df8b/2577b/diagrams/functionals/map.png'>\n",
    "        </td><td><img src='https://d33wubrfki0l68.cloudfront.net/e1b3536a7556aef348f546a79277125c419a5fdc/0c0a1/diagrams/functionals/map-arg.png'></td>\n",
    "    <td><img src='https://d33wubrfki0l68.cloudfront.net/a468c847ea8aca9a6131492e1e7431f418259eaf/ce4e0/diagrams/functionals/map-arg-recycle.png'></td></tr>\n",
    "</table>"
   ]
  },
  {
   "cell_type": "code",
   "execution_count": 1,
   "id": "cc626acf",
   "metadata": {},
   "outputs": [
    {
     "ename": "ERROR",
     "evalue": "Error in map(1:3, triple): impossible de trouver la fonction \"map\"\n",
     "output_type": "error",
     "traceback": [
      "Error in map(1:3, triple): impossible de trouver la fonction \"map\"\nTraceback:\n"
     ]
    }
   ],
   "source": [
    "triple <- function(x) x * 3\n",
    "map(1:3, triple)\n",
    "# possible d'utiliser une fonction annonyme"
   ]
  },
  {
   "cell_type": "markdown",
   "id": "4654fa41",
   "metadata": {},
   "source": [
    "   Et on on crée notre propre fonction map"
   ]
  },
  {
   "cell_type": "code",
   "execution_count": null,
   "id": "5e797dc3",
   "metadata": {},
   "outputs": [],
   "source": []
  },
  {
   "cell_type": "code",
   "execution_count": null,
   "id": "f1b9aeda",
   "metadata": {},
   "outputs": [],
   "source": [
    "simple_map <- function(x, f, ...) {\n",
    "  out <- vector(\"list\", length(x))\n",
    "  for (i in seq_along(x)) {\n",
    "    out[[i]] <- f(x[[i]], ...)\n",
    "  }\n",
    "  out\n",
    "}"
   ]
  },
  {
   "cell_type": "markdown",
   "id": "3f7b6a9f",
   "metadata": {},
   "source": [
    "Il y'a 4 variantes spécifiques de `map()`: `map_lgl()`, `map_int()`, `map_dbl()`, and `map_chr()`. Chacune retourne un vecteur atomique du type spécifié :"
   ]
  },
  {
   "cell_type": "code",
   "execution_count": null,
   "id": "1e8bf3a1",
   "metadata": {},
   "outputs": [],
   "source": [
    "# map_chr() always returns a character vector\n",
    "map_chr(mtcars, typeof)"
   ]
  },
  {
   "cell_type": "code",
   "execution_count": null,
   "id": "0344a2ff",
   "metadata": {},
   "outputs": [],
   "source": [
    "# map_lgl() always returns a logical vector\n",
    "map_lgl(mtcars, is.double)"
   ]
  },
  {
   "cell_type": "code",
   "execution_count": null,
   "id": "773d7ca3",
   "metadata": {},
   "outputs": [],
   "source": [
    "# map_int() always returns a integer vector\n",
    "n_unique <- function(x) length(unique(x))"
   ]
  },
  {
   "cell_type": "code",
   "execution_count": null,
   "id": "050bca27",
   "metadata": {},
   "outputs": [],
   "source": [
    "# map_dbl() always returns a double vector\n",
    "map_dbl(mtcars, mean)"
   ]
  },
  {
   "cell_type": "markdown",
   "id": "fb7aa3f2",
   "metadata": {},
   "source": [
    "### des racourcis"
   ]
  },
  {
   "cell_type": "code",
   "execution_count": null,
   "id": "8dad58fa",
   "metadata": {},
   "outputs": [],
   "source": [
    "map(1:3, ~ runif(2))"
   ]
  },
  {
   "cell_type": "markdown",
   "id": "c459248d",
   "metadata": {},
   "source": [
    "![](https://d33wubrfki0l68.cloudfront.net/a468c847ea8aca9a6131492e1e7431f418259eaf/ce4e0/diagrams/functionals/map-arg-recycle.png)"
   ]
  },
  {
   "cell_type": "code",
   "execution_count": 2,
   "id": "1612c727",
   "metadata": {},
   "outputs": [
    {
     "ename": "ERROR",
     "evalue": "Error in map_dbl(x, plus, 3): impossible de trouver la fonction \"map_dbl\"\n",
     "output_type": "error",
     "traceback": [
      "Error in map_dbl(x, plus, 3): impossible de trouver la fonction \"map_dbl\"\nTraceback:\n"
     ]
    }
   ],
   "source": [
    "plus <- function(x, y) x + y\n",
    "\n",
    "x <- c(0, 0, 0, 0)\n",
    "map_dbl(x, plus, 3)"
   ]
  },
  {
   "cell_type": "markdown",
   "id": "d8a75021",
   "metadata": {},
   "source": [
    "## map2\n",
    "\n",
    "<table bgcolor=\"white\">\n",
    "    <tr><td><img src='https://d33wubrfki0l68.cloudfront.net/f5cddf51ec9c243a7c13732b0ce46b0868bf8a31/501a8/diagrams/functionals/map2.png'>\n",
    "        </td><td><img src='https://d33wubrfki0l68.cloudfront.net/7a545699ff7069a98329fcfbe6e42b734507eb16/211a5/diagrams/functionals/map2-arg.png'></td></tr>\n",
    "</table>"
   ]
  },
  {
   "cell_type": "code",
   "execution_count": null,
   "id": "56eeca78",
   "metadata": {},
   "outputs": [],
   "source": [
    "map2_dbl(xs, ws, weighted.mean)"
   ]
  },
  {
   "cell_type": "markdown",
   "id": "0691e318",
   "metadata": {},
   "source": [
    "### pmap\n",
    "\n",
    "<table bgcolor=\"white\">\n",
    "    <tr><td><img src='https://d33wubrfki0l68.cloudfront.net/e426c5755e2e65bdcc073d387775db79791f32fd/92902/diagrams/functionals/pmap.png'>\n",
    "        </td><td><img src='https://d33wubrfki0l68.cloudfront.net/2eb2eefe34ad6d114da2a22df42deac8511b4788/5a538/diagrams/functionals/pmap-arg.png'></td>\n",
    "    <td><img src='https://d33wubrfki0l68.cloudfront.net/e698354d802ce16f83546db63c45a19b8d51f45e/43de7/diagrams/functionals/pmap-3.png'></td></tr>\n",
    "</table>\n"
   ]
  },
  {
   "cell_type": "code",
   "execution_count": null,
   "id": "d4787024",
   "metadata": {},
   "outputs": [],
   "source": [
    "pmap_dbl(list(xs, ws), weighted.mean, na.rm = TRUE)\n",
    "\n",
    "\n",
    "params <- tibble::tribble(\n",
    "  ~ n, ~ min, ~ max,\n",
    "   1L,     0,     1,\n",
    "   2L,    10,   100,\n",
    "   3L,   100,  1000\n",
    ")\n",
    "\n",
    "pmap(params, runif)"
   ]
  },
  {
   "cell_type": "code",
   "execution_count": null,
   "id": "922c2c5a",
   "metadata": {},
   "outputs": [],
   "source": []
  },
  {
   "cell_type": "markdown",
   "id": "b7706c2f",
   "metadata": {},
   "source": [
    "## walk\n",
    "\n",
    "<table bgcolor=\"white\">\n",
    "    <tr><td><img src='https://d33wubrfki0l68.cloudfront.net/d16783978b0d33756af9951ad3fba2596eb8e934/233ba/diagrams/functionals/walk.png'>\n",
    "        </td><td><img src='https://d33wubrfki0l68.cloudfront.net/19d5f7d265107c81dded3e98319d48ec01821308/b8621/diagrams/functionals/walk2.png'></td></tr>\n",
    "</table>\n",
    "\n",
    "Pas besoin de sortie\n",
    "\n"
   ]
  },
  {
   "cell_type": "code",
   "execution_count": null,
   "id": "5e4f2997",
   "metadata": {},
   "outputs": [],
   "source": [
    "welcome <- function(x) {\n",
    "  cat(\"Welcome \", x, \"!\\n\", sep = \"\")\n",
    "}\n",
    "names <- c(\"Elize\", \"Khady\")\n",
    "\n",
    "map(names, welcome)\n"
   ]
  },
  {
   "cell_type": "code",
   "execution_count": null,
   "id": "b85f6671",
   "metadata": {},
   "outputs": [],
   "source": [
    "temp <- tempfile()\n",
    "dir.create(temp)\n",
    "\n",
    "cyls <- split(mtcars, mtcars$cyl)\n",
    "paths <- file.path(temp, paste0(\"cyl-\", names(cyls), \".csv\"))\n",
    "walk2(cyls, paths, write.csv)\n",
    "\n",
    "dir(temp)"
   ]
  },
  {
   "cell_type": "markdown",
   "id": "1acb7f0b",
   "metadata": {},
   "source": [
    "Ici le walk2() est équivalent à `write.csv(cyls[[1]], paths[[1]])`, `write.csv(cyls[[2]], paths[[2]])`, `write.csv(cyls[[3]], paths[[3]])`."
   ]
  },
  {
   "cell_type": "markdown",
   "id": "e3ad4cfb",
   "metadata": {},
   "source": [
    "# Reduce\n",
    "reduce() prend un vecteur de longueur n et produit un vecteur de longueur 1 en appelant une fonction avec une paire de valeurs à la fois : `reduce(1:4, f)` est équivalent à `f(f(f(1, 2), 3), 4)`.\n",
    "\n",
    "## walk\n",
    "\n",
    "<table bgcolor=\"white\">\n",
    "    <tr><td><img src='https://d33wubrfki0l68.cloudfront.net/9c239e1227c69b7a2c9c2df234c21f3e1c74dd57/eec0e/diagrams/functionals/reduce.png'>\n",
    "        </td><td><img src='https://d33wubrfki0l68.cloudfront.net/3f81c662fd1b426d7ce21e9369a10adcaa776272/f4809/diagrams/functionals/reduce-arg.png'></td></tr>\n",
    "</table>\n",
    "\n",
    "Pas besoin de sortie\n",
    "\n"
   ]
  },
  {
   "cell_type": "code",
   "execution_count": 3,
   "id": "2cbf435a",
   "metadata": {},
   "outputs": [
    {
     "ename": "ERROR",
     "evalue": "Error in parse(text = x, srcfile = src): <text>:4:4: unexpected symbol\n3: reduce(l, intersect)\n4: La première\n      ^\n",
     "output_type": "error",
     "traceback": [
      "Error in parse(text = x, srcfile = src): <text>:4:4: unexpected symbol\n3: reduce(l, intersect)\n4: La première\n      ^\nTraceback:\n"
     ]
    }
   ],
   "source": [
    "l <- map(1:4, ~ sample(1:10, 15, replace = T))\n",
    "\n",
    "reduce(l, intersect)\n",
    "\n",
    "reduce(l, union)"
   ]
  },
  {
   "cell_type": "markdown",
   "id": "f7a2ddf1",
   "metadata": {},
   "source": [
    "### accumulate\n",
    "La première variante de reduce(), accumulate(), est utile pour comprendre le fonctionnement de reduce, car au lieu de renvoyer uniquement le résultat final, elle renvoie également tous les résultats intermédiaires :"
   ]
  },
  {
   "cell_type": "code",
   "execution_count": null,
   "id": "88440900",
   "metadata": {},
   "outputs": [],
   "source": [
    "accumulate(l, intersect)"
   ]
  },
  {
   "cell_type": "code",
   "execution_count": null,
   "id": "33c4c1e9",
   "metadata": {},
   "outputs": [],
   "source": [
    "x <- c(4, 3, 10)\n",
    "reduce(x, `+`)\n",
    "\n",
    "accumulate(x, `+`)\n"
   ]
  }
 ],
 "metadata": {
  "kernelspec": {
   "display_name": "R",
   "language": "R",
   "name": "ir"
  },
  "language_info": {
   "codemirror_mode": "r",
   "file_extension": ".r",
   "mimetype": "text/x-r-source",
   "name": "R",
   "pygments_lexer": "r",
   "version": "3.6.1"
  }
 },
 "nbformat": 4,
 "nbformat_minor": 5
}
