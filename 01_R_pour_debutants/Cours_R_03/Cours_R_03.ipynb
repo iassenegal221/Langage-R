{
 "cells": [
  {
   "cell_type": "markdown",
   "id": "4471025e",
   "metadata": {},
   "source": [
    "# Programmation fonctionnelle sur R"
   ]
  },
  {
   "cell_type": "markdown",
   "id": "2df10875",
   "metadata": {},
   "source": [
    "## Motivation\n",
    "\n",
    "Considérons de problème suivant: vous avez fini de nétoyer vos données et vous voulez avoir un résumé des variables. Vous pourez écrire un code qui resemblait à ça"
   ]
  },
  {
   "cell_type": "code",
   "execution_count": null,
   "id": "5354c6e5",
   "metadata": {},
   "outputs": [],
   "source": [
    "mean(df$a)\n",
    "median(df$a)\n",
    "sd(df$a)\n",
    "IQR(df$a)\n",
    "\n",
    "mean(df$b)\n",
    "median(df$b)\n",
    "sd(df$b)\n",
    "IQR(df$b)\n",
    ".\n",
    ".\n",
    ".\n",
    "ect"
   ]
  },
  {
   "cell_type": "markdown",
   "id": "6c98f715",
   "metadata": {},
   "source": [
    "Une autre consist à écrire une fonction résumé qui sera appliqué à toutes les variables. C'est plus efficace"
   ]
  },
  {
   "cell_type": "code",
   "execution_count": 10,
   "id": "d080e451",
   "metadata": {},
   "outputs": [
    {
     "data": {
      "text/html": [
       "<table>\n",
       "<thead><tr><th></th><th scope=col>mpg</th><th scope=col>cyl</th><th scope=col>disp</th><th scope=col>hp</th><th scope=col>drat</th><th scope=col>wt</th><th scope=col>qsec</th><th scope=col>vs</th><th scope=col>am</th><th scope=col>gear</th><th scope=col>carb</th></tr></thead>\n",
       "<tbody>\n",
       "\t<tr><th scope=row>Mazda RX4</th><td>21.0 </td><td>6    </td><td>160  </td><td>110  </td><td>3.90 </td><td>2.620</td><td>16.46</td><td>0    </td><td>1    </td><td>4    </td><td>4    </td></tr>\n",
       "\t<tr><th scope=row>Mazda RX4 Wag</th><td>21.0 </td><td>6    </td><td>160  </td><td>110  </td><td>3.90 </td><td>2.875</td><td>17.02</td><td>0    </td><td>1    </td><td>4    </td><td>4    </td></tr>\n",
       "\t<tr><th scope=row>Datsun 710</th><td>22.8 </td><td>4    </td><td>108  </td><td> 93  </td><td>3.85 </td><td>2.320</td><td>18.61</td><td>1    </td><td>1    </td><td>4    </td><td>1    </td></tr>\n",
       "\t<tr><th scope=row>Hornet 4 Drive</th><td>21.4 </td><td>6    </td><td>258  </td><td>110  </td><td>3.08 </td><td>3.215</td><td>19.44</td><td>1    </td><td>0    </td><td>3    </td><td>1    </td></tr>\n",
       "\t<tr><th scope=row>Hornet Sportabout</th><td>18.7 </td><td>8    </td><td>360  </td><td>175  </td><td>3.15 </td><td>3.440</td><td>17.02</td><td>0    </td><td>0    </td><td>3    </td><td>2    </td></tr>\n",
       "\t<tr><th scope=row>Valiant</th><td>18.1 </td><td>6    </td><td>225  </td><td>105  </td><td>2.76 </td><td>3.460</td><td>20.22</td><td>1    </td><td>0    </td><td>3    </td><td>1    </td></tr>\n",
       "</tbody>\n",
       "</table>\n"
      ],
      "text/latex": [
       "\\begin{tabular}{r|lllllllllll}\n",
       "  & mpg & cyl & disp & hp & drat & wt & qsec & vs & am & gear & carb\\\\\n",
       "\\hline\n",
       "\tMazda RX4 & 21.0  & 6     & 160   & 110   & 3.90  & 2.620 & 16.46 & 0     & 1     & 4     & 4    \\\\\n",
       "\tMazda RX4 Wag & 21.0  & 6     & 160   & 110   & 3.90  & 2.875 & 17.02 & 0     & 1     & 4     & 4    \\\\\n",
       "\tDatsun 710 & 22.8  & 4     & 108   &  93   & 3.85  & 2.320 & 18.61 & 1     & 1     & 4     & 1    \\\\\n",
       "\tHornet 4 Drive & 21.4  & 6     & 258   & 110   & 3.08  & 3.215 & 19.44 & 1     & 0     & 3     & 1    \\\\\n",
       "\tHornet Sportabout & 18.7  & 8     & 360   & 175   & 3.15  & 3.440 & 17.02 & 0     & 0     & 3     & 2    \\\\\n",
       "\tValiant & 18.1  & 6     & 225   & 105   & 2.76  & 3.460 & 20.22 & 1     & 0     & 3     & 1    \\\\\n",
       "\\end{tabular}\n"
      ],
      "text/markdown": [
       "\n",
       "| <!--/--> | mpg | cyl | disp | hp | drat | wt | qsec | vs | am | gear | carb |\n",
       "|---|---|---|---|---|---|---|---|---|---|---|---|\n",
       "| Mazda RX4 | 21.0  | 6     | 160   | 110   | 3.90  | 2.620 | 16.46 | 0     | 1     | 4     | 4     |\n",
       "| Mazda RX4 Wag | 21.0  | 6     | 160   | 110   | 3.90  | 2.875 | 17.02 | 0     | 1     | 4     | 4     |\n",
       "| Datsun 710 | 22.8  | 4     | 108   |  93   | 3.85  | 2.320 | 18.61 | 1     | 1     | 4     | 1     |\n",
       "| Hornet 4 Drive | 21.4  | 6     | 258   | 110   | 3.08  | 3.215 | 19.44 | 1     | 0     | 3     | 1     |\n",
       "| Hornet Sportabout | 18.7  | 8     | 360   | 175   | 3.15  | 3.440 | 17.02 | 0     | 0     | 3     | 2     |\n",
       "| Valiant | 18.1  | 6     | 225   | 105   | 2.76  | 3.460 | 20.22 | 1     | 0     | 3     | 1     |\n",
       "\n"
      ],
      "text/plain": [
       "                  mpg  cyl disp hp  drat wt    qsec  vs am gear carb\n",
       "Mazda RX4         21.0 6   160  110 3.90 2.620 16.46 0  1  4    4   \n",
       "Mazda RX4 Wag     21.0 6   160  110 3.90 2.875 17.02 0  1  4    4   \n",
       "Datsun 710        22.8 4   108   93 3.85 2.320 18.61 1  1  4    1   \n",
       "Hornet 4 Drive    21.4 6   258  110 3.08 3.215 19.44 1  0  3    1   \n",
       "Hornet Sportabout 18.7 8   360  175 3.15 3.440 17.02 0  0  3    2   \n",
       "Valiant           18.1 6   225  105 2.76 3.460 20.22 1  0  3    1   "
      ]
     },
     "metadata": {},
     "output_type": "display_data"
    },
    {
     "data": {
      "text/html": [
       "<ol class=list-inline>\n",
       "\t<li>32</li>\n",
       "\t<li>11</li>\n",
       "</ol>\n"
      ],
      "text/latex": [
       "\\begin{enumerate*}\n",
       "\\item 32\n",
       "\\item 11\n",
       "\\end{enumerate*}\n"
      ],
      "text/markdown": [
       "1. 32\n",
       "2. 11\n",
       "\n",
       "\n"
      ],
      "text/plain": [
       "[1] 32 11"
      ]
     },
     "metadata": {},
     "output_type": "display_data"
    }
   ],
   "source": [
    "summary <- function(x) {\n",
    "  c(mean(x), median(x), sd(x), IQR(x))\n",
    "}\n",
    "head(mtcars)\n",
    "dim(mtcars)"
   ]
  },
  {
   "cell_type": "code",
   "execution_count": 8,
   "id": "ab58cdd5",
   "metadata": {},
   "outputs": [
    {
     "data": {
      "text/html": [
       "<dl>\n",
       "\t<dt>$mpg</dt>\n",
       "\t\t<dd><ol class=list-inline>\n",
       "\t<li>20.090625</li>\n",
       "\t<li>19.2</li>\n",
       "\t<li>6.0269480520891</li>\n",
       "\t<li>7.375</li>\n",
       "</ol>\n",
       "</dd>\n",
       "\t<dt>$cyl</dt>\n",
       "\t\t<dd><ol class=list-inline>\n",
       "\t<li>6.1875</li>\n",
       "\t<li>6</li>\n",
       "\t<li>1.78592164694654</li>\n",
       "\t<li>4</li>\n",
       "</ol>\n",
       "</dd>\n",
       "\t<dt>$disp</dt>\n",
       "\t\t<dd><ol class=list-inline>\n",
       "\t<li>230.721875</li>\n",
       "\t<li>196.3</li>\n",
       "\t<li>123.938693831382</li>\n",
       "\t<li>205.175</li>\n",
       "</ol>\n",
       "</dd>\n",
       "\t<dt>$hp</dt>\n",
       "\t\t<dd><ol class=list-inline>\n",
       "\t<li>146.6875</li>\n",
       "\t<li>123</li>\n",
       "\t<li>68.5628684893206</li>\n",
       "\t<li>83.5</li>\n",
       "</ol>\n",
       "</dd>\n",
       "\t<dt>$drat</dt>\n",
       "\t\t<dd><ol class=list-inline>\n",
       "\t<li>3.5965625</li>\n",
       "\t<li>3.695</li>\n",
       "\t<li>0.534678736070971</li>\n",
       "\t<li>0.84</li>\n",
       "</ol>\n",
       "</dd>\n",
       "\t<dt>$wt</dt>\n",
       "\t\t<dd><ol class=list-inline>\n",
       "\t<li>3.21725</li>\n",
       "\t<li>3.325</li>\n",
       "\t<li>0.978457442989697</li>\n",
       "\t<li>1.02875</li>\n",
       "</ol>\n",
       "</dd>\n",
       "\t<dt>$qsec</dt>\n",
       "\t\t<dd><ol class=list-inline>\n",
       "\t<li>17.84875</li>\n",
       "\t<li>17.71</li>\n",
       "\t<li>1.78694323609684</li>\n",
       "\t<li>2.0075</li>\n",
       "</ol>\n",
       "</dd>\n",
       "\t<dt>$vs</dt>\n",
       "\t\t<dd><ol class=list-inline>\n",
       "\t<li>0.4375</li>\n",
       "\t<li>0</li>\n",
       "\t<li>0.504016128774185</li>\n",
       "\t<li>1</li>\n",
       "</ol>\n",
       "</dd>\n",
       "\t<dt>$am</dt>\n",
       "\t\t<dd><ol class=list-inline>\n",
       "\t<li>0.40625</li>\n",
       "\t<li>0</li>\n",
       "\t<li>0.498990917235846</li>\n",
       "\t<li>1</li>\n",
       "</ol>\n",
       "</dd>\n",
       "\t<dt>$gear</dt>\n",
       "\t\t<dd><ol class=list-inline>\n",
       "\t<li>3.6875</li>\n",
       "\t<li>4</li>\n",
       "\t<li>0.737804065256947</li>\n",
       "\t<li>1</li>\n",
       "</ol>\n",
       "</dd>\n",
       "\t<dt>$carb</dt>\n",
       "\t\t<dd><ol class=list-inline>\n",
       "\t<li>2.8125</li>\n",
       "\t<li>2</li>\n",
       "\t<li>1.61519997763185</li>\n",
       "\t<li>2</li>\n",
       "</ol>\n",
       "</dd>\n",
       "</dl>\n"
      ],
      "text/latex": [
       "\\begin{description}\n",
       "\\item[\\$mpg] \\begin{enumerate*}\n",
       "\\item 20.090625\n",
       "\\item 19.2\n",
       "\\item 6.0269480520891\n",
       "\\item 7.375\n",
       "\\end{enumerate*}\n",
       "\n",
       "\\item[\\$cyl] \\begin{enumerate*}\n",
       "\\item 6.1875\n",
       "\\item 6\n",
       "\\item 1.78592164694654\n",
       "\\item 4\n",
       "\\end{enumerate*}\n",
       "\n",
       "\\item[\\$disp] \\begin{enumerate*}\n",
       "\\item 230.721875\n",
       "\\item 196.3\n",
       "\\item 123.938693831382\n",
       "\\item 205.175\n",
       "\\end{enumerate*}\n",
       "\n",
       "\\item[\\$hp] \\begin{enumerate*}\n",
       "\\item 146.6875\n",
       "\\item 123\n",
       "\\item 68.5628684893206\n",
       "\\item 83.5\n",
       "\\end{enumerate*}\n",
       "\n",
       "\\item[\\$drat] \\begin{enumerate*}\n",
       "\\item 3.5965625\n",
       "\\item 3.695\n",
       "\\item 0.534678736070971\n",
       "\\item 0.84\n",
       "\\end{enumerate*}\n",
       "\n",
       "\\item[\\$wt] \\begin{enumerate*}\n",
       "\\item 3.21725\n",
       "\\item 3.325\n",
       "\\item 0.978457442989697\n",
       "\\item 1.02875\n",
       "\\end{enumerate*}\n",
       "\n",
       "\\item[\\$qsec] \\begin{enumerate*}\n",
       "\\item 17.84875\n",
       "\\item 17.71\n",
       "\\item 1.78694323609684\n",
       "\\item 2.0075\n",
       "\\end{enumerate*}\n",
       "\n",
       "\\item[\\$vs] \\begin{enumerate*}\n",
       "\\item 0.4375\n",
       "\\item 0\n",
       "\\item 0.504016128774185\n",
       "\\item 1\n",
       "\\end{enumerate*}\n",
       "\n",
       "\\item[\\$am] \\begin{enumerate*}\n",
       "\\item 0.40625\n",
       "\\item 0\n",
       "\\item 0.498990917235846\n",
       "\\item 1\n",
       "\\end{enumerate*}\n",
       "\n",
       "\\item[\\$gear] \\begin{enumerate*}\n",
       "\\item 3.6875\n",
       "\\item 4\n",
       "\\item 0.737804065256947\n",
       "\\item 1\n",
       "\\end{enumerate*}\n",
       "\n",
       "\\item[\\$carb] \\begin{enumerate*}\n",
       "\\item 2.8125\n",
       "\\item 2\n",
       "\\item 1.61519997763185\n",
       "\\item 2\n",
       "\\end{enumerate*}\n",
       "\n",
       "\\end{description}\n"
      ],
      "text/markdown": [
       "$mpg\n",
       ":   1. 20.090625\n",
       "2. 19.2\n",
       "3. 6.0269480520891\n",
       "4. 7.375\n",
       "\n",
       "\n",
       "\n",
       "$cyl\n",
       ":   1. 6.1875\n",
       "2. 6\n",
       "3. 1.78592164694654\n",
       "4. 4\n",
       "\n",
       "\n",
       "\n",
       "$disp\n",
       ":   1. 230.721875\n",
       "2. 196.3\n",
       "3. 123.938693831382\n",
       "4. 205.175\n",
       "\n",
       "\n",
       "\n",
       "$hp\n",
       ":   1. 146.6875\n",
       "2. 123\n",
       "3. 68.5628684893206\n",
       "4. 83.5\n",
       "\n",
       "\n",
       "\n",
       "$drat\n",
       ":   1. 3.5965625\n",
       "2. 3.695\n",
       "3. 0.534678736070971\n",
       "4. 0.84\n",
       "\n",
       "\n",
       "\n",
       "$wt\n",
       ":   1. 3.21725\n",
       "2. 3.325\n",
       "3. 0.978457442989697\n",
       "4. 1.02875\n",
       "\n",
       "\n",
       "\n",
       "$qsec\n",
       ":   1. 17.84875\n",
       "2. 17.71\n",
       "3. 1.78694323609684\n",
       "4. 2.0075\n",
       "\n",
       "\n",
       "\n",
       "$vs\n",
       ":   1. 0.4375\n",
       "2. 0\n",
       "3. 0.504016128774185\n",
       "4. 1\n",
       "\n",
       "\n",
       "\n",
       "$am\n",
       ":   1. 0.40625\n",
       "2. 0\n",
       "3. 0.498990917235846\n",
       "4. 1\n",
       "\n",
       "\n",
       "\n",
       "$gear\n",
       ":   1. 3.6875\n",
       "2. 4\n",
       "3. 0.737804065256947\n",
       "4. 1\n",
       "\n",
       "\n",
       "\n",
       "$carb\n",
       ":   1. 2.8125\n",
       "2. 2\n",
       "3. 1.61519997763185\n",
       "4. 2\n",
       "\n",
       "\n",
       "\n",
       "\n",
       "\n"
      ],
      "text/plain": [
       "$mpg\n",
       "[1] 20.090625 19.200000  6.026948  7.375000\n",
       "\n",
       "$cyl\n",
       "[1] 6.187500 6.000000 1.785922 4.000000\n",
       "\n",
       "$disp\n",
       "[1] 230.7219 196.3000 123.9387 205.1750\n",
       "\n",
       "$hp\n",
       "[1] 146.68750 123.00000  68.56287  83.50000\n",
       "\n",
       "$drat\n",
       "[1] 3.5965625 3.6950000 0.5346787 0.8400000\n",
       "\n",
       "$wt\n",
       "[1] 3.2172500 3.3250000 0.9784574 1.0287500\n",
       "\n",
       "$qsec\n",
       "[1] 17.848750 17.710000  1.786943  2.007500\n",
       "\n",
       "$vs\n",
       "[1] 0.4375000 0.0000000 0.5040161 1.0000000\n",
       "\n",
       "$am\n",
       "[1] 0.4062500 0.0000000 0.4989909 1.0000000\n",
       "\n",
       "$gear\n",
       "[1] 3.6875000 4.0000000 0.7378041 1.0000000\n",
       "\n",
       "$carb\n",
       "[1] 2.8125 2.0000 1.6152 2.0000\n"
      ]
     },
     "metadata": {},
     "output_type": "display_data"
    }
   ],
   "source": [
    "lapply(mtcars, summary)"
   ]
  },
  {
   "cell_type": "markdown",
   "id": "40030c7c",
   "metadata": {},
   "source": [
    "## Les fonctions annonymes\n",
    "\n",
    "Les fonctions annonymes sont des fonctions qui n'ont pas de nom. On utilise ces fonctions lorsqu'il n'est pas necessaire nommer la fonction avant de l'utiliser"
   ]
  },
  {
   "cell_type": "code",
   "execution_count": 13,
   "id": "3c1f08dd",
   "metadata": {},
   "outputs": [
    {
     "data": {
      "text/html": [
       "'list'"
      ],
      "text/latex": [
       "'list'"
      ],
      "text/markdown": [
       "'list'"
      ],
      "text/plain": [
       "[1] \"list\""
      ]
     },
     "metadata": {},
     "output_type": "display_data"
    }
   ],
   "source": [
    "res=lapply(mtcars, function(x){length(unique(x))})\n",
    "\n",
    "typeof(res)"
   ]
  },
  {
   "cell_type": "code",
   "execution_count": 14,
   "id": "0e00c778",
   "metadata": {},
   "outputs": [
    {
     "data": {
      "text/html": [
       "<table>\n",
       "<tbody>\n",
       "\t<tr><th scope=row>Mazda RX4</th></tr>\n",
       "\t<tr><th scope=row>Mazda RX4 Wag</th></tr>\n",
       "\t<tr><th scope=row>Datsun 710</th></tr>\n",
       "\t<tr><th scope=row>Hornet 4 Drive</th></tr>\n",
       "\t<tr><th scope=row>Hornet Sportabout</th></tr>\n",
       "\t<tr><th scope=row>Valiant</th></tr>\n",
       "\t<tr><th scope=row>Duster 360</th></tr>\n",
       "\t<tr><th scope=row>Merc 240D</th></tr>\n",
       "\t<tr><th scope=row>Merc 230</th></tr>\n",
       "\t<tr><th scope=row>Merc 280</th></tr>\n",
       "\t<tr><th scope=row>Merc 280C</th></tr>\n",
       "\t<tr><th scope=row>Merc 450SE</th></tr>\n",
       "\t<tr><th scope=row>Merc 450SL</th></tr>\n",
       "\t<tr><th scope=row>Merc 450SLC</th></tr>\n",
       "\t<tr><th scope=row>Cadillac Fleetwood</th></tr>\n",
       "\t<tr><th scope=row>Lincoln Continental</th></tr>\n",
       "\t<tr><th scope=row>Chrysler Imperial</th></tr>\n",
       "\t<tr><th scope=row>Fiat 128</th></tr>\n",
       "\t<tr><th scope=row>Honda Civic</th></tr>\n",
       "\t<tr><th scope=row>Toyota Corolla</th></tr>\n",
       "\t<tr><th scope=row>Toyota Corona</th></tr>\n",
       "\t<tr><th scope=row>Dodge Challenger</th></tr>\n",
       "\t<tr><th scope=row>AMC Javelin</th></tr>\n",
       "\t<tr><th scope=row>Camaro Z28</th></tr>\n",
       "\t<tr><th scope=row>Pontiac Firebird</th></tr>\n",
       "\t<tr><th scope=row>Fiat X1-9</th></tr>\n",
       "\t<tr><th scope=row>Porsche 914-2</th></tr>\n",
       "\t<tr><th scope=row>Lotus Europa</th></tr>\n",
       "\t<tr><th scope=row>Ford Pantera L</th></tr>\n",
       "\t<tr><th scope=row>Ferrari Dino</th></tr>\n",
       "\t<tr><th scope=row>Maserati Bora</th></tr>\n",
       "\t<tr><th scope=row>Volvo 142E</th></tr>\n",
       "</tbody>\n",
       "</table>\n"
      ],
      "text/latex": [
       "\\begin{tabular}{r|}\n",
       "\tMazda RX4\\\\\n",
       "\tMazda RX4 Wag\\\\\n",
       "\tDatsun 710\\\\\n",
       "\tHornet 4 Drive\\\\\n",
       "\tHornet Sportabout\\\\\n",
       "\tValiant\\\\\n",
       "\tDuster 360\\\\\n",
       "\tMerc 240D\\\\\n",
       "\tMerc 230\\\\\n",
       "\tMerc 280\\\\\n",
       "\tMerc 280C\\\\\n",
       "\tMerc 450SE\\\\\n",
       "\tMerc 450SL\\\\\n",
       "\tMerc 450SLC\\\\\n",
       "\tCadillac Fleetwood\\\\\n",
       "\tLincoln Continental\\\\\n",
       "\tChrysler Imperial\\\\\n",
       "\tFiat 128\\\\\n",
       "\tHonda Civic\\\\\n",
       "\tToyota Corolla\\\\\n",
       "\tToyota Corona\\\\\n",
       "\tDodge Challenger\\\\\n",
       "\tAMC Javelin\\\\\n",
       "\tCamaro Z28\\\\\n",
       "\tPontiac Firebird\\\\\n",
       "\tFiat X1-9\\\\\n",
       "\tPorsche 914-2\\\\\n",
       "\tLotus Europa\\\\\n",
       "\tFord Pantera L\\\\\n",
       "\tFerrari Dino\\\\\n",
       "\tMaserati Bora\\\\\n",
       "\tVolvo 142E\\\\\n",
       "\\end{tabular}\n"
      ],
      "text/markdown": [
       "\n",
       "| Mazda RX4 |\n",
       "| Mazda RX4 Wag |\n",
       "| Datsun 710 |\n",
       "| Hornet 4 Drive |\n",
       "| Hornet Sportabout |\n",
       "| Valiant |\n",
       "| Duster 360 |\n",
       "| Merc 240D |\n",
       "| Merc 230 |\n",
       "| Merc 280 |\n",
       "| Merc 280C |\n",
       "| Merc 450SE |\n",
       "| Merc 450SL |\n",
       "| Merc 450SLC |\n",
       "| Cadillac Fleetwood |\n",
       "| Lincoln Continental |\n",
       "| Chrysler Imperial |\n",
       "| Fiat 128 |\n",
       "| Honda Civic |\n",
       "| Toyota Corolla |\n",
       "| Toyota Corona |\n",
       "| Dodge Challenger |\n",
       "| AMC Javelin |\n",
       "| Camaro Z28 |\n",
       "| Pontiac Firebird |\n",
       "| Fiat X1-9 |\n",
       "| Porsche 914-2 |\n",
       "| Lotus Europa |\n",
       "| Ford Pantera L |\n",
       "| Ferrari Dino |\n",
       "| Maserati Bora |\n",
       "| Volvo 142E |\n",
       "\n"
      ],
      "text/plain": [
       "                   \n",
       "Mazda RX4          \n",
       "Mazda RX4 Wag      \n",
       "Datsun 710         \n",
       "Hornet 4 Drive     \n",
       "Hornet Sportabout  \n",
       "Valiant            \n",
       "Duster 360         \n",
       "Merc 240D          \n",
       "Merc 230           \n",
       "Merc 280           \n",
       "Merc 280C          \n",
       "Merc 450SE         \n",
       "Merc 450SL         \n",
       "Merc 450SLC        \n",
       "Cadillac Fleetwood \n",
       "Lincoln Continental\n",
       "Chrysler Imperial  \n",
       "Fiat 128           \n",
       "Honda Civic        \n",
       "Toyota Corolla     \n",
       "Toyota Corona      \n",
       "Dodge Challenger   \n",
       "AMC Javelin        \n",
       "Camaro Z28         \n",
       "Pontiac Firebird   \n",
       "Fiat X1-9          \n",
       "Porsche 914-2      \n",
       "Lotus Europa       \n",
       "Ford Pantera L     \n",
       "Ferrari Dino       \n",
       "Maserati Bora      \n",
       "Volvo 142E         "
      ]
     },
     "metadata": {},
     "output_type": "display_data"
    }
   ],
   "source": [
    "Filter(function(x) !is.numeric(x), mtcars)\n"
   ]
  },
  {
   "cell_type": "code",
   "execution_count": 15,
   "id": "9fc7eb89",
   "metadata": {},
   "outputs": [
    {
     "data": {
      "text/plain": [
       "1.570796 with absolute error < 1.7e-14"
      ]
     },
     "metadata": {},
     "output_type": "display_data"
    }
   ],
   "source": [
    "integrate(function(x) sin(x) ^ 2, 0, pi)"
   ]
  },
  {
   "cell_type": "markdown",
   "id": "20f9c79e",
   "metadata": {},
   "source": [
    "## Closures\n",
    "\n",
    "ce sont des fonctions qui renvoient une fonction comme resultat"
   ]
  },
  {
   "cell_type": "code",
   "execution_count": 16,
   "id": "6742ad0a",
   "metadata": {},
   "outputs": [],
   "source": [
    "power <- function(exponent) {\n",
    "  function(x) {\n",
    "    x ^ exponent\n",
    "  }\n",
    "}\n"
   ]
  },
  {
   "cell_type": "code",
   "execution_count": 19,
   "id": "7ef357c7",
   "metadata": {},
   "outputs": [
    {
     "data": {
      "text/html": [
       "4"
      ],
      "text/latex": [
       "4"
      ],
      "text/markdown": [
       "4"
      ],
      "text/plain": [
       "[1] 4"
      ]
     },
     "metadata": {},
     "output_type": "display_data"
    },
    {
     "data": {
      "text/html": [
       "64"
      ],
      "text/latex": [
       "64"
      ],
      "text/markdown": [
       "64"
      ],
      "text/plain": [
       "[1] 64"
      ]
     },
     "metadata": {},
     "output_type": "display_data"
    }
   ],
   "source": [
    "carre=power(2)\n",
    "carre(2)\n",
    "carre(8)"
   ]
  },
  {
   "cell_type": "code",
   "execution_count": 23,
   "id": "f16cd9e3",
   "metadata": {},
   "outputs": [
    {
     "data": {
      "text/html": [
       "8"
      ],
      "text/latex": [
       "8"
      ],
      "text/markdown": [
       "8"
      ],
      "text/plain": [
       "[1] 8"
      ]
     },
     "metadata": {},
     "output_type": "display_data"
    },
    {
     "data": {
      "text/html": [
       "64"
      ],
      "text/latex": [
       "64"
      ],
      "text/markdown": [
       "64"
      ],
      "text/plain": [
       "[1] 64"
      ]
     },
     "metadata": {},
     "output_type": "display_data"
    }
   ],
   "source": [
    "cube=power(3)\n",
    "cube(2)\n",
    "cube(4)"
   ]
  },
  {
   "cell_type": "code",
   "execution_count": null,
   "id": "ccc82255",
   "metadata": {},
   "outputs": [],
   "source": []
  },
  {
   "cell_type": "code",
   "execution_count": 24,
   "id": "af13a791",
   "metadata": {},
   "outputs": [],
   "source": [
    "bc <- function(lambda) {\n",
    "  if (lambda == 0) {\n",
    "    function(x) log(x)\n",
    "  } else {\n",
    "    function(x) (x ^ lambda - 1) / lambda\n",
    "  }\n",
    "}"
   ]
  },
  {
   "cell_type": "code",
   "execution_count": 25,
   "id": "52bf8cb1",
   "metadata": {},
   "outputs": [
    {
     "data": {
      "text/html": [
       "0"
      ],
      "text/latex": [
       "0"
      ],
      "text/markdown": [
       "0"
      ],
      "text/plain": [
       "[1] 0"
      ]
     },
     "metadata": {},
     "output_type": "display_data"
    }
   ],
   "source": [
    "f1=bc(0)\n",
    "f1(1)"
   ]
  },
  {
   "cell_type": "code",
   "execution_count": 27,
   "id": "f9a01c45",
   "metadata": {},
   "outputs": [
    {
     "data": {
      "text/html": [
       "1"
      ],
      "text/latex": [
       "1"
      ],
      "text/markdown": [
       "1"
      ],
      "text/plain": [
       "[1] 1"
      ]
     },
     "metadata": {},
     "output_type": "display_data"
    }
   ],
   "source": [
    "f2=bc(1)\n",
    "f2(2)"
   ]
  },
  {
   "cell_type": "markdown",
   "id": "668a0840",
   "metadata": {},
   "source": [
    "## la famille Apply"
   ]
  },
  {
   "cell_type": "markdown",
   "id": "21cffa89",
   "metadata": {},
   "source": [
    "**` apply()`**\n",
    "\n",
    "Renvoie un vecteur ou un tableau ou une liste de valeurs obtenues en appliquant une fonction aux marges d'un array ou d'une matrice\n",
    "\n",
    "`apply(X, MARGIN, FUN, …)`"
   ]
  },
  {
   "cell_type": "code",
   "execution_count": 29,
   "id": "a2855d2a",
   "metadata": {},
   "outputs": [
    {
     "data": {
      "text/html": [
       "<table>\n",
       "<tbody>\n",
       "\t<tr><td>1</td><td>4</td><td>7</td></tr>\n",
       "\t<tr><td>2</td><td>5</td><td>8</td></tr>\n",
       "\t<tr><td>3</td><td>6</td><td>9</td></tr>\n",
       "</tbody>\n",
       "</table>\n"
      ],
      "text/latex": [
       "\\begin{tabular}{lll}\n",
       "\t 1 & 4 & 7\\\\\n",
       "\t 2 & 5 & 8\\\\\n",
       "\t 3 & 6 & 9\\\\\n",
       "\\end{tabular}\n"
      ],
      "text/markdown": [
       "\n",
       "| 1 | 4 | 7 |\n",
       "| 2 | 5 | 8 |\n",
       "| 3 | 6 | 9 |\n",
       "\n"
      ],
      "text/plain": [
       "     [,1] [,2] [,3]\n",
       "[1,] 1    4    7   \n",
       "[2,] 2    5    8   \n",
       "[3,] 3    6    9   "
      ]
     },
     "metadata": {},
     "output_type": "display_data"
    }
   ],
   "source": [
    "mymatrix<-matrix(1:9,nrow=3)\n",
    "mymatrix"
   ]
  },
  {
   "cell_type": "code",
   "execution_count": 30,
   "id": "892f7d5f",
   "metadata": {},
   "outputs": [
    {
     "data": {
      "text/html": [
       "<ol class=list-inline>\n",
       "\t<li>12</li>\n",
       "\t<li>15</li>\n",
       "\t<li>18</li>\n",
       "</ol>\n"
      ],
      "text/latex": [
       "\\begin{enumerate*}\n",
       "\\item 12\n",
       "\\item 15\n",
       "\\item 18\n",
       "\\end{enumerate*}\n"
      ],
      "text/markdown": [
       "1. 12\n",
       "2. 15\n",
       "3. 18\n",
       "\n",
       "\n"
      ],
      "text/plain": [
       "[1] 12 15 18"
      ]
     },
     "metadata": {},
     "output_type": "display_data"
    }
   ],
   "source": [
    "apply(mymatrix,1,sum) #somme des lignes"
   ]
  },
  {
   "cell_type": "code",
   "execution_count": 31,
   "id": "2a98d31b",
   "metadata": {},
   "outputs": [
    {
     "data": {
      "text/html": [
       "<ol class=list-inline>\n",
       "\t<li>6</li>\n",
       "\t<li>15</li>\n",
       "\t<li>24</li>\n",
       "</ol>\n"
      ],
      "text/latex": [
       "\\begin{enumerate*}\n",
       "\\item 6\n",
       "\\item 15\n",
       "\\item 24\n",
       "\\end{enumerate*}\n"
      ],
      "text/markdown": [
       "1. 6\n",
       "2. 15\n",
       "3. 24\n",
       "\n",
       "\n"
      ],
      "text/plain": [
       "[1]  6 15 24"
      ]
     },
     "metadata": {},
     "output_type": "display_data"
    }
   ],
   "source": [
    "apply(mymatrix,2,sum) #somme des colonnes"
   ]
  },
  {
   "cell_type": "code",
   "execution_count": 32,
   "id": "a2a40852",
   "metadata": {},
   "outputs": [
    {
     "data": {
      "text/html": [
       "<ol class=list-inline>\n",
       "\t<li>12</li>\n",
       "\t<li>15</li>\n",
       "\t<li>18</li>\n",
       "</ol>\n"
      ],
      "text/latex": [
       "\\begin{enumerate*}\n",
       "\\item 12\n",
       "\\item 15\n",
       "\\item 18\n",
       "\\end{enumerate*}\n"
      ],
      "text/markdown": [
       "1. 12\n",
       "2. 15\n",
       "3. 18\n",
       "\n",
       "\n"
      ],
      "text/plain": [
       "[1] 12 15 18"
      ]
     },
     "metadata": {},
     "output_type": "display_data"
    }
   ],
   "source": [
    "# on peut aussi inclure les arguments de la fonction\n",
    "apply(mymatrix,1,sum,na.rm=TRUE)"
   ]
  },
  {
   "cell_type": "markdown",
   "id": "ebcc5cc7",
   "metadata": {},
   "source": [
    "**`lapply()`**\n",
    "\n",
    "syntaxe : `lapply(X, FUN,…)`\n",
    "\n",
    "lapply renvoie une <font color=\"red\">liste</font> de même longueur que X, dont chaque élément est le résultat de l'application de FUN à l'élément correspondant de X.\n",
    "\n",
    "<font color=\"red\">Pas besoin de marges</font>"
   ]
  },
  {
   "cell_type": "code",
   "execution_count": null,
   "id": "525274b4",
   "metadata": {},
   "outputs": [],
   "source": []
  },
  {
   "cell_type": "code",
   "execution_count": 34,
   "id": "67646659",
   "metadata": {},
   "outputs": [
    {
     "data": {
      "text/html": [
       "<dl>\n",
       "\t<dt>$A</dt>\n",
       "\t\t<dd><table>\n",
       "<tbody>\n",
       "\t<tr><td>1</td><td>4</td><td>7</td></tr>\n",
       "\t<tr><td>2</td><td>5</td><td>8</td></tr>\n",
       "\t<tr><td>3</td><td>6</td><td>9</td></tr>\n",
       "</tbody>\n",
       "</table>\n",
       "</dd>\n",
       "\t<dt>$B</dt>\n",
       "\t\t<dd><ol class=list-inline>\n",
       "\t<li>1</li>\n",
       "\t<li>2</li>\n",
       "\t<li>3</li>\n",
       "\t<li>4</li>\n",
       "\t<li>5</li>\n",
       "</ol>\n",
       "</dd>\n",
       "\t<dt>$C</dt>\n",
       "\t\t<dd>8</dd>\n",
       "</dl>\n"
      ],
      "text/latex": [
       "\\begin{description}\n",
       "\\item[\\$A] \\begin{tabular}{lll}\n",
       "\t 1 & 4 & 7\\\\\n",
       "\t 2 & 5 & 8\\\\\n",
       "\t 3 & 6 & 9\\\\\n",
       "\\end{tabular}\n",
       "\n",
       "\\item[\\$B] \\begin{enumerate*}\n",
       "\\item 1\n",
       "\\item 2\n",
       "\\item 3\n",
       "\\item 4\n",
       "\\item 5\n",
       "\\end{enumerate*}\n",
       "\n",
       "\\item[\\$C] 8\n",
       "\\end{description}\n"
      ],
      "text/markdown": [
       "$A\n",
       ":   \n",
       "| 1 | 4 | 7 |\n",
       "| 2 | 5 | 8 |\n",
       "| 3 | 6 | 9 |\n",
       "\n",
       "\n",
       "$B\n",
       ":   1. 1\n",
       "2. 2\n",
       "3. 3\n",
       "4. 4\n",
       "5. 5\n",
       "\n",
       "\n",
       "\n",
       "$C\n",
       ":   8\n",
       "\n",
       "\n"
      ],
      "text/plain": [
       "$A\n",
       "     [,1] [,2] [,3]\n",
       "[1,]    1    4    7\n",
       "[2,]    2    5    8\n",
       "[3,]    3    6    9\n",
       "\n",
       "$B\n",
       "[1] 1 2 3 4 5\n",
       "\n",
       "$C\n",
       "[1] 8\n"
      ]
     },
     "metadata": {},
     "output_type": "display_data"
    }
   ],
   "source": [
    "mylist<-list(A=matrix(1:9,nrow=3),B=1:5,C=8)\n",
    "mylist\n"
   ]
  },
  {
   "cell_type": "code",
   "execution_count": 35,
   "id": "a373d439",
   "metadata": {},
   "outputs": [
    {
     "data": {
      "text/html": [
       "<dl>\n",
       "\t<dt>$A</dt>\n",
       "\t\t<dd>45</dd>\n",
       "\t<dt>$B</dt>\n",
       "\t\t<dd>15</dd>\n",
       "\t<dt>$C</dt>\n",
       "\t\t<dd>8</dd>\n",
       "</dl>\n"
      ],
      "text/latex": [
       "\\begin{description}\n",
       "\\item[\\$A] 45\n",
       "\\item[\\$B] 15\n",
       "\\item[\\$C] 8\n",
       "\\end{description}\n"
      ],
      "text/markdown": [
       "$A\n",
       ":   45\n",
       "$B\n",
       ":   15\n",
       "$C\n",
       ":   8\n",
       "\n",
       "\n"
      ],
      "text/plain": [
       "$A\n",
       "[1] 45\n",
       "\n",
       "$B\n",
       "[1] 15\n",
       "\n",
       "$C\n",
       "[1] 8\n"
      ]
     },
     "metadata": {},
     "output_type": "display_data"
    }
   ],
   "source": [
    "lapply(mylist,sum)"
   ]
  },
  {
   "cell_type": "code",
   "execution_count": 36,
   "id": "8078e0ee",
   "metadata": {},
   "outputs": [
    {
     "data": {
      "text/html": [
       "<dl class=dl-horizontal>\n",
       "\t<dt>A</dt>\n",
       "\t\t<dd>45</dd>\n",
       "\t<dt>B</dt>\n",
       "\t\t<dd>15</dd>\n",
       "\t<dt>C</dt>\n",
       "\t\t<dd>8</dd>\n",
       "</dl>\n"
      ],
      "text/latex": [
       "\\begin{description*}\n",
       "\\item[A] 45\n",
       "\\item[B] 15\n",
       "\\item[C] 8\n",
       "\\end{description*}\n"
      ],
      "text/markdown": [
       "A\n",
       ":   45B\n",
       ":   15C\n",
       ":   8\n",
       "\n"
      ],
      "text/plain": [
       " A  B  C \n",
       "45 15  8 "
      ]
     },
     "metadata": {},
     "output_type": "display_data"
    }
   ],
   "source": [
    "unlist(lapply(mylist,sum))"
   ]
  },
  {
   "cell_type": "markdown",
   "id": "d24485ca",
   "metadata": {},
   "source": [
    "avec une fonction annonyme"
   ]
  },
  {
   "cell_type": "code",
   "execution_count": 37,
   "id": "5bb8c16c",
   "metadata": {},
   "outputs": [
    {
     "data": {
      "text/html": [
       "<dl>\n",
       "\t<dt>$A</dt>\n",
       "\t\t<dd><table>\n",
       "<tbody>\n",
       "\t<tr><td>-1</td><td>2 </td><td>5 </td></tr>\n",
       "\t<tr><td> 0</td><td>3 </td><td>6 </td></tr>\n",
       "\t<tr><td> 1</td><td>4 </td><td>7 </td></tr>\n",
       "</tbody>\n",
       "</table>\n",
       "</dd>\n",
       "\t<dt>$B</dt>\n",
       "\t\t<dd><ol class=list-inline>\n",
       "\t<li>-1</li>\n",
       "\t<li>0</li>\n",
       "\t<li>1</li>\n",
       "\t<li>2</li>\n",
       "\t<li>3</li>\n",
       "</ol>\n",
       "</dd>\n",
       "\t<dt>$C</dt>\n",
       "\t\t<dd>6</dd>\n",
       "</dl>\n"
      ],
      "text/latex": [
       "\\begin{description}\n",
       "\\item[\\$A] \\begin{tabular}{lll}\n",
       "\t -1 & 2  & 5 \\\\\n",
       "\t  0 & 3  & 6 \\\\\n",
       "\t  1 & 4  & 7 \\\\\n",
       "\\end{tabular}\n",
       "\n",
       "\\item[\\$B] \\begin{enumerate*}\n",
       "\\item -1\n",
       "\\item 0\n",
       "\\item 1\n",
       "\\item 2\n",
       "\\item 3\n",
       "\\end{enumerate*}\n",
       "\n",
       "\\item[\\$C] 6\n",
       "\\end{description}\n"
      ],
      "text/markdown": [
       "$A\n",
       ":   \n",
       "| -1 | 2  | 5  |\n",
       "|  0 | 3  | 6  |\n",
       "|  1 | 4  | 7  |\n",
       "\n",
       "\n",
       "$B\n",
       ":   1. -1\n",
       "2. 0\n",
       "3. 1\n",
       "4. 2\n",
       "5. 3\n",
       "\n",
       "\n",
       "\n",
       "$C\n",
       ":   6\n",
       "\n",
       "\n"
      ],
      "text/plain": [
       "$A\n",
       "     [,1] [,2] [,3]\n",
       "[1,]   -1    2    5\n",
       "[2,]    0    3    6\n",
       "[3,]    1    4    7\n",
       "\n",
       "$B\n",
       "[1] -1  0  1  2  3\n",
       "\n",
       "$C\n",
       "[1] 6\n"
      ]
     },
     "metadata": {},
     "output_type": "display_data"
    }
   ],
   "source": [
    "lapply(mylist,function(x){x-2})"
   ]
  },
  {
   "cell_type": "markdown",
   "id": "26c80a11",
   "metadata": {},
   "source": [
    "**`sapply()`**\n",
    "\n",
    "sapply est une version conviviale de lapply qui retourne par défaut un vecteur, une matrice ou, si simplify = \"array\", un tableau si nécessaire, en appliquant simplify2array().\n",
    "\n",
    "`sapply(x, f, simplify = FALSE, USE.NAMES = FALSE)`  est la même chose que `lapply(x, f)`"
   ]
  },
  {
   "cell_type": "code",
   "execution_count": 38,
   "id": "4b3cc913",
   "metadata": {},
   "outputs": [
    {
     "data": {
      "text/html": [
       "<dl class=dl-horizontal>\n",
       "\t<dt>A</dt>\n",
       "\t\t<dd>45</dd>\n",
       "\t<dt>B</dt>\n",
       "\t\t<dd>15</dd>\n",
       "\t<dt>C</dt>\n",
       "\t\t<dd>8</dd>\n",
       "</dl>\n"
      ],
      "text/latex": [
       "\\begin{description*}\n",
       "\\item[A] 45\n",
       "\\item[B] 15\n",
       "\\item[C] 8\n",
       "\\end{description*}\n"
      ],
      "text/markdown": [
       "A\n",
       ":   45B\n",
       ":   15C\n",
       ":   8\n",
       "\n"
      ],
      "text/plain": [
       " A  B  C \n",
       "45 15  8 "
      ]
     },
     "metadata": {},
     "output_type": "display_data"
    }
   ],
   "source": [
    "sapply(mylist,sum)"
   ]
  },
  {
   "cell_type": "markdown",
   "id": "fbf5cff4",
   "metadata": {},
   "source": [
    "**`mapply()`**\n",
    "\n",
    "m représente multi-variante apply.\n",
    "\n"
   ]
  },
  {
   "cell_type": "code",
   "execution_count": 39,
   "id": "4efeefaa",
   "metadata": {},
   "outputs": [
    {
     "data": {
      "text/html": [
       "<dl class=dl-horizontal>\n",
       "\t<dt>A</dt>\n",
       "\t\t<dd>900</dd>\n",
       "\t<dt>B</dt>\n",
       "\t\t<dd>102</dd>\n",
       "\t<dt>C</dt>\n",
       "\t\t<dd>100</dd>\n",
       "</dl>\n"
      ],
      "text/latex": [
       "\\begin{description*}\n",
       "\\item[A] 900\n",
       "\\item[B] 102\n",
       "\\item[C] 100\n",
       "\\end{description*}\n"
      ],
      "text/markdown": [
       "A\n",
       ":   900B\n",
       ":   102C\n",
       ":   100\n",
       "\n"
      ],
      "text/plain": [
       "  A   B   C \n",
       "900 102 100 "
      ]
     },
     "metadata": {},
     "output_type": "display_data"
    }
   ],
   "source": [
    "x<-c(A=20,B=1,C=40)\n",
    "y<-c(J=430,K=50,L=10)\n",
    "\n",
    "simply<-function(u,v){\n",
    "  (u+v)*2\n",
    "}\n",
    "mapply(simply,x,y)"
   ]
  },
  {
   "cell_type": "markdown",
   "id": "5ef076af",
   "metadata": {},
   "source": [
    "**`tapply()`**\n",
    "\n",
    "Appliquez une fonction à chaque cellule d'un tableau en escalier, c'est-à-dire à chaque groupe (non vide) de valeurs données par une combinaison unique des niveaux de certains facteurs."
   ]
  },
  {
   "cell_type": "code",
   "execution_count": 41,
   "id": "75775c6e",
   "metadata": {},
   "outputs": [
    {
     "data": {
      "text/html": [
       "<table>\n",
       "<thead><tr><th scope=col>Sepal.Length</th><th scope=col>Sepal.Width</th><th scope=col>Petal.Length</th><th scope=col>Petal.Width</th><th scope=col>Species</th></tr></thead>\n",
       "<tbody>\n",
       "\t<tr><td>5.1   </td><td>3.5   </td><td>1.4   </td><td>0.2   </td><td>setosa</td></tr>\n",
       "\t<tr><td>4.9   </td><td>3.0   </td><td>1.4   </td><td>0.2   </td><td>setosa</td></tr>\n",
       "\t<tr><td>4.7   </td><td>3.2   </td><td>1.3   </td><td>0.2   </td><td>setosa</td></tr>\n",
       "\t<tr><td>4.6   </td><td>3.1   </td><td>1.5   </td><td>0.2   </td><td>setosa</td></tr>\n",
       "\t<tr><td>5.0   </td><td>3.6   </td><td>1.4   </td><td>0.2   </td><td>setosa</td></tr>\n",
       "\t<tr><td>5.4   </td><td>3.9   </td><td>1.7   </td><td>0.4   </td><td>setosa</td></tr>\n",
       "</tbody>\n",
       "</table>\n"
      ],
      "text/latex": [
       "\\begin{tabular}{r|lllll}\n",
       " Sepal.Length & Sepal.Width & Petal.Length & Petal.Width & Species\\\\\n",
       "\\hline\n",
       "\t 5.1    & 3.5    & 1.4    & 0.2    & setosa\\\\\n",
       "\t 4.9    & 3.0    & 1.4    & 0.2    & setosa\\\\\n",
       "\t 4.7    & 3.2    & 1.3    & 0.2    & setosa\\\\\n",
       "\t 4.6    & 3.1    & 1.5    & 0.2    & setosa\\\\\n",
       "\t 5.0    & 3.6    & 1.4    & 0.2    & setosa\\\\\n",
       "\t 5.4    & 3.9    & 1.7    & 0.4    & setosa\\\\\n",
       "\\end{tabular}\n"
      ],
      "text/markdown": [
       "\n",
       "| Sepal.Length | Sepal.Width | Petal.Length | Petal.Width | Species |\n",
       "|---|---|---|---|---|\n",
       "| 5.1    | 3.5    | 1.4    | 0.2    | setosa |\n",
       "| 4.9    | 3.0    | 1.4    | 0.2    | setosa |\n",
       "| 4.7    | 3.2    | 1.3    | 0.2    | setosa |\n",
       "| 4.6    | 3.1    | 1.5    | 0.2    | setosa |\n",
       "| 5.0    | 3.6    | 1.4    | 0.2    | setosa |\n",
       "| 5.4    | 3.9    | 1.7    | 0.4    | setosa |\n",
       "\n"
      ],
      "text/plain": [
       "  Sepal.Length Sepal.Width Petal.Length Petal.Width Species\n",
       "1 5.1          3.5         1.4          0.2         setosa \n",
       "2 4.9          3.0         1.4          0.2         setosa \n",
       "3 4.7          3.2         1.3          0.2         setosa \n",
       "4 4.6          3.1         1.5          0.2         setosa \n",
       "5 5.0          3.6         1.4          0.2         setosa \n",
       "6 5.4          3.9         1.7          0.4         setosa "
      ]
     },
     "metadata": {},
     "output_type": "display_data"
    },
    {
     "data": {
      "text/html": [
       "<ol class=list-inline>\n",
       "\t<li>setosa</li>\n",
       "\t<li>versicolor</li>\n",
       "\t<li>virginica</li>\n",
       "</ol>\n",
       "\n",
       "<details>\n",
       "\t<summary style=display:list-item;cursor:pointer>\n",
       "\t\t<strong>Levels</strong>:\n",
       "\t</summary>\n",
       "\t<ol class=list-inline>\n",
       "\t\t<li>'setosa'</li>\n",
       "\t\t<li>'versicolor'</li>\n",
       "\t\t<li>'virginica'</li>\n",
       "\t</ol>\n",
       "</details>"
      ],
      "text/latex": [
       "\\begin{enumerate*}\n",
       "\\item setosa\n",
       "\\item versicolor\n",
       "\\item virginica\n",
       "\\end{enumerate*}\n",
       "\n",
       "\\emph{Levels}: \\begin{enumerate*}\n",
       "\\item 'setosa'\n",
       "\\item 'versicolor'\n",
       "\\item 'virginica'\n",
       "\\end{enumerate*}\n"
      ],
      "text/markdown": [
       "1. setosa\n",
       "2. versicolor\n",
       "3. virginica\n",
       "\n",
       "\n",
       "\n",
       "**Levels**: 1. 'setosa'\n",
       "2. 'versicolor'\n",
       "3. 'virginica'\n",
       "\n",
       "\n"
      ],
      "text/plain": [
       "[1] setosa     versicolor virginica \n",
       "Levels: setosa versicolor virginica"
      ]
     },
     "metadata": {},
     "output_type": "display_data"
    }
   ],
   "source": [
    "head(iris)\n",
    "unique(iris$Species)"
   ]
  },
  {
   "cell_type": "code",
   "execution_count": 43,
   "id": "c5bedd05",
   "metadata": {},
   "outputs": [
    {
     "data": {
      "text/html": [
       "<dl class=dl-horizontal>\n",
       "\t<dt>setosa</dt>\n",
       "\t\t<dd>5.8</dd>\n",
       "\t<dt>versicolor</dt>\n",
       "\t\t<dd>7</dd>\n",
       "\t<dt>virginica</dt>\n",
       "\t\t<dd>7.9</dd>\n",
       "</dl>\n"
      ],
      "text/latex": [
       "\\begin{description*}\n",
       "\\item[setosa] 5.8\n",
       "\\item[versicolor] 7\n",
       "\\item[virginica] 7.9\n",
       "\\end{description*}\n"
      ],
      "text/markdown": [
       "setosa\n",
       ":   5.8versicolor\n",
       ":   7virginica\n",
       ":   7.9\n",
       "\n"
      ],
      "text/plain": [
       "    setosa versicolor  virginica \n",
       "       5.8        7.0        7.9 "
      ]
     },
     "metadata": {},
     "output_type": "display_data"
    }
   ],
   "source": [
    "tapply(iris$Sepal.Length,iris$Species,max)"
   ]
  },
  {
   "cell_type": "markdown",
   "id": "12545e86",
   "metadata": {},
   "source": [
    "### En résumé\n",
    "\n",
    "**`apply()`**:- Applique une fonction sur les marges d'un tableau.\n",
    "\n",
    "**`lapply()`**:- Boucle sur une liste et évalue une fonction sur chaque élément.\n",
    "\n",
    "**`sapply()`**:- Identique à lapply mais en essayant de simplifier le résultat.\n",
    "\n",
    "**`mapply()`**:- Version multivariée de lapply\n",
    "\n",
    "**`tapply()`**:-Applique une fonction sur des sous-ensembles d'un vecteur."
   ]
  },
  {
   "cell_type": "markdown",
   "id": "816efacd",
   "metadata": {},
   "source": [
    "## La famille Map,reduce,walk"
   ]
  },
  {
   "cell_type": "code",
   "execution_count": 49,
   "id": "90096eda",
   "metadata": {},
   "outputs": [],
   "source": [
    "#install.packages(\"purrr\")\n",
    "library(purrr)\n",
    "help(package=purrr)"
   ]
  },
  {
   "cell_type": "markdown",
   "id": "2db44bb5",
   "metadata": {},
   "source": [
    "# map\n",
    "\n",
    "Elle prend un vecteur et une fonction, appelle la fonction une fois pour chaque élément du vecteur, et renvoie les résultats dans une liste. En d'autres termes,` map(1:3, f)` est équivalent à `list(f(1), f(2), f(3))`.\n",
    "<table bgcolor=\"white\">\n",
    "    <tr><td><img src='https://d33wubrfki0l68.cloudfront.net/f0494d020aa517ae7b1011cea4c4a9f21702df8b/2577b/diagrams/functionals/map.png'>\n",
    "        </td><td><img src='https://d33wubrfki0l68.cloudfront.net/e1b3536a7556aef348f546a79277125c419a5fdc/0c0a1/diagrams/functionals/map-arg.png'></td>\n",
    "    <td><img src='https://d33wubrfki0l68.cloudfront.net/a468c847ea8aca9a6131492e1e7431f418259eaf/ce4e0/diagrams/functionals/map-arg-recycle.png'></td></tr>\n",
    "</table>"
   ]
  },
  {
   "cell_type": "code",
   "execution_count": 53,
   "id": "f112fdfc",
   "metadata": {},
   "outputs": [
    {
     "data": {
      "text/html": [
       "<ol>\n",
       "\t<li>3</li>\n",
       "\t<li>6</li>\n",
       "\t<li>9</li>\n",
       "</ol>\n"
      ],
      "text/latex": [
       "\\begin{enumerate}\n",
       "\\item 3\n",
       "\\item 6\n",
       "\\item 9\n",
       "\\end{enumerate}\n"
      ],
      "text/markdown": [
       "1. 3\n",
       "2. 6\n",
       "3. 9\n",
       "\n",
       "\n"
      ],
      "text/plain": [
       "[[1]]\n",
       "[1] 3\n",
       "\n",
       "[[2]]\n",
       "[1] 6\n",
       "\n",
       "[[3]]\n",
       "[1] 9\n"
      ]
     },
     "metadata": {},
     "output_type": "display_data"
    }
   ],
   "source": [
    "triple <- function(x) x * 3\n",
    "map(1:3, triple)\n",
    "# possible d'utiliser une fonction annonyme"
   ]
  },
  {
   "cell_type": "code",
   "execution_count": 54,
   "id": "96a3e9f9",
   "metadata": {},
   "outputs": [
    {
     "data": {
      "text/html": [
       "<ol>\n",
       "\t<li>1</li>\n",
       "\t<li>4</li>\n",
       "\t<li>9</li>\n",
       "</ol>\n"
      ],
      "text/latex": [
       "\\begin{enumerate}\n",
       "\\item 1\n",
       "\\item 4\n",
       "\\item 9\n",
       "\\end{enumerate}\n"
      ],
      "text/markdown": [
       "1. 1\n",
       "2. 4\n",
       "3. 9\n",
       "\n",
       "\n"
      ],
      "text/plain": [
       "[[1]]\n",
       "[1] 1\n",
       "\n",
       "[[2]]\n",
       "[1] 4\n",
       "\n",
       "[[3]]\n",
       "[1] 9\n"
      ]
     },
     "metadata": {},
     "output_type": "display_data"
    }
   ],
   "source": [
    "map(1:3,carre)"
   ]
  },
  {
   "cell_type": "code",
   "execution_count": 55,
   "id": "12c88e74",
   "metadata": {},
   "outputs": [
    {
     "data": {
      "text/html": [
       "<ol>\n",
       "\t<li>1</li>\n",
       "\t<li>8</li>\n",
       "\t<li>27</li>\n",
       "</ol>\n"
      ],
      "text/latex": [
       "\\begin{enumerate}\n",
       "\\item 1\n",
       "\\item 8\n",
       "\\item 27\n",
       "\\end{enumerate}\n"
      ],
      "text/markdown": [
       "1. 1\n",
       "2. 8\n",
       "3. 27\n",
       "\n",
       "\n"
      ],
      "text/plain": [
       "[[1]]\n",
       "[1] 1\n",
       "\n",
       "[[2]]\n",
       "[1] 8\n",
       "\n",
       "[[3]]\n",
       "[1] 27\n"
      ]
     },
     "metadata": {},
     "output_type": "display_data"
    }
   ],
   "source": [
    "puissance=function(x,n){x^n}\n",
    "\n",
    "map(1:3,puissance,3)"
   ]
  },
  {
   "cell_type": "markdown",
   "id": "cbd4a783",
   "metadata": {},
   "source": [
    "   Et on on crée notre propre fonction map"
   ]
  },
  {
   "cell_type": "code",
   "execution_count": null,
   "id": "130d4c6a",
   "metadata": {},
   "outputs": [],
   "source": []
  },
  {
   "cell_type": "code",
   "execution_count": null,
   "id": "efe09bfb",
   "metadata": {},
   "outputs": [],
   "source": [
    "simple_map <- function(x, f, ...) {\n",
    "  out <- vector(\"list\", length(x))\n",
    "  for (i in seq_along(x)) {\n",
    "    out[[i]] <- f(x[[i]], ...)\n",
    "  }\n",
    "  out\n",
    "}"
   ]
  },
  {
   "cell_type": "markdown",
   "id": "f5223c49",
   "metadata": {},
   "source": [
    "Il y'a 4 variantes spécifiques de `map()`: `map_lgl()`, `map_int()`, `map_dbl()`, and `map_chr()`. Chacune retourne un vecteur atomique du type spécifié :"
   ]
  },
  {
   "cell_type": "code",
   "execution_count": 56,
   "id": "4d0120df",
   "metadata": {},
   "outputs": [
    {
     "data": {
      "text/html": [
       "<dl class=dl-horizontal>\n",
       "\t<dt>mpg</dt>\n",
       "\t\t<dd>'double'</dd>\n",
       "\t<dt>cyl</dt>\n",
       "\t\t<dd>'double'</dd>\n",
       "\t<dt>disp</dt>\n",
       "\t\t<dd>'double'</dd>\n",
       "\t<dt>hp</dt>\n",
       "\t\t<dd>'double'</dd>\n",
       "\t<dt>drat</dt>\n",
       "\t\t<dd>'double'</dd>\n",
       "\t<dt>wt</dt>\n",
       "\t\t<dd>'double'</dd>\n",
       "\t<dt>qsec</dt>\n",
       "\t\t<dd>'double'</dd>\n",
       "\t<dt>vs</dt>\n",
       "\t\t<dd>'double'</dd>\n",
       "\t<dt>am</dt>\n",
       "\t\t<dd>'double'</dd>\n",
       "\t<dt>gear</dt>\n",
       "\t\t<dd>'double'</dd>\n",
       "\t<dt>carb</dt>\n",
       "\t\t<dd>'double'</dd>\n",
       "</dl>\n"
      ],
      "text/latex": [
       "\\begin{description*}\n",
       "\\item[mpg] 'double'\n",
       "\\item[cyl] 'double'\n",
       "\\item[disp] 'double'\n",
       "\\item[hp] 'double'\n",
       "\\item[drat] 'double'\n",
       "\\item[wt] 'double'\n",
       "\\item[qsec] 'double'\n",
       "\\item[vs] 'double'\n",
       "\\item[am] 'double'\n",
       "\\item[gear] 'double'\n",
       "\\item[carb] 'double'\n",
       "\\end{description*}\n"
      ],
      "text/markdown": [
       "mpg\n",
       ":   'double'cyl\n",
       ":   'double'disp\n",
       ":   'double'hp\n",
       ":   'double'drat\n",
       ":   'double'wt\n",
       ":   'double'qsec\n",
       ":   'double'vs\n",
       ":   'double'am\n",
       ":   'double'gear\n",
       ":   'double'carb\n",
       ":   'double'\n",
       "\n"
      ],
      "text/plain": [
       "     mpg      cyl     disp       hp     drat       wt     qsec       vs \n",
       "\"double\" \"double\" \"double\" \"double\" \"double\" \"double\" \"double\" \"double\" \n",
       "      am     gear     carb \n",
       "\"double\" \"double\" \"double\" "
      ]
     },
     "metadata": {},
     "output_type": "display_data"
    }
   ],
   "source": [
    "# map_chr() always returns a character vector\n",
    "map_chr(mtcars, typeof)"
   ]
  },
  {
   "cell_type": "code",
   "execution_count": 57,
   "id": "b4215261",
   "metadata": {},
   "outputs": [
    {
     "data": {
      "text/html": [
       "<dl class=dl-horizontal>\n",
       "\t<dt>mpg</dt>\n",
       "\t\t<dd>TRUE</dd>\n",
       "\t<dt>cyl</dt>\n",
       "\t\t<dd>TRUE</dd>\n",
       "\t<dt>disp</dt>\n",
       "\t\t<dd>TRUE</dd>\n",
       "\t<dt>hp</dt>\n",
       "\t\t<dd>TRUE</dd>\n",
       "\t<dt>drat</dt>\n",
       "\t\t<dd>TRUE</dd>\n",
       "\t<dt>wt</dt>\n",
       "\t\t<dd>TRUE</dd>\n",
       "\t<dt>qsec</dt>\n",
       "\t\t<dd>TRUE</dd>\n",
       "\t<dt>vs</dt>\n",
       "\t\t<dd>TRUE</dd>\n",
       "\t<dt>am</dt>\n",
       "\t\t<dd>TRUE</dd>\n",
       "\t<dt>gear</dt>\n",
       "\t\t<dd>TRUE</dd>\n",
       "\t<dt>carb</dt>\n",
       "\t\t<dd>TRUE</dd>\n",
       "</dl>\n"
      ],
      "text/latex": [
       "\\begin{description*}\n",
       "\\item[mpg] TRUE\n",
       "\\item[cyl] TRUE\n",
       "\\item[disp] TRUE\n",
       "\\item[hp] TRUE\n",
       "\\item[drat] TRUE\n",
       "\\item[wt] TRUE\n",
       "\\item[qsec] TRUE\n",
       "\\item[vs] TRUE\n",
       "\\item[am] TRUE\n",
       "\\item[gear] TRUE\n",
       "\\item[carb] TRUE\n",
       "\\end{description*}\n"
      ],
      "text/markdown": [
       "mpg\n",
       ":   TRUEcyl\n",
       ":   TRUEdisp\n",
       ":   TRUEhp\n",
       ":   TRUEdrat\n",
       ":   TRUEwt\n",
       ":   TRUEqsec\n",
       ":   TRUEvs\n",
       ":   TRUEam\n",
       ":   TRUEgear\n",
       ":   TRUEcarb\n",
       ":   TRUE\n",
       "\n"
      ],
      "text/plain": [
       " mpg  cyl disp   hp drat   wt qsec   vs   am gear carb \n",
       "TRUE TRUE TRUE TRUE TRUE TRUE TRUE TRUE TRUE TRUE TRUE "
      ]
     },
     "metadata": {},
     "output_type": "display_data"
    }
   ],
   "source": [
    "# map_lgl() always returns a logical vector\n",
    "map_lgl(mtcars, is.double)"
   ]
  },
  {
   "cell_type": "code",
   "execution_count": 58,
   "id": "cb5905c5",
   "metadata": {},
   "outputs": [
    {
     "data": {
      "text/html": [
       "<dl class=dl-horizontal>\n",
       "\t<dt>mpg</dt>\n",
       "\t\t<dd>25</dd>\n",
       "\t<dt>cyl</dt>\n",
       "\t\t<dd>3</dd>\n",
       "\t<dt>disp</dt>\n",
       "\t\t<dd>27</dd>\n",
       "\t<dt>hp</dt>\n",
       "\t\t<dd>22</dd>\n",
       "\t<dt>drat</dt>\n",
       "\t\t<dd>22</dd>\n",
       "\t<dt>wt</dt>\n",
       "\t\t<dd>29</dd>\n",
       "\t<dt>qsec</dt>\n",
       "\t\t<dd>30</dd>\n",
       "\t<dt>vs</dt>\n",
       "\t\t<dd>2</dd>\n",
       "\t<dt>am</dt>\n",
       "\t\t<dd>2</dd>\n",
       "\t<dt>gear</dt>\n",
       "\t\t<dd>3</dd>\n",
       "\t<dt>carb</dt>\n",
       "\t\t<dd>6</dd>\n",
       "</dl>\n"
      ],
      "text/latex": [
       "\\begin{description*}\n",
       "\\item[mpg] 25\n",
       "\\item[cyl] 3\n",
       "\\item[disp] 27\n",
       "\\item[hp] 22\n",
       "\\item[drat] 22\n",
       "\\item[wt] 29\n",
       "\\item[qsec] 30\n",
       "\\item[vs] 2\n",
       "\\item[am] 2\n",
       "\\item[gear] 3\n",
       "\\item[carb] 6\n",
       "\\end{description*}\n"
      ],
      "text/markdown": [
       "mpg\n",
       ":   25cyl\n",
       ":   3disp\n",
       ":   27hp\n",
       ":   22drat\n",
       ":   22wt\n",
       ":   29qsec\n",
       ":   30vs\n",
       ":   2am\n",
       ":   2gear\n",
       ":   3carb\n",
       ":   6\n",
       "\n"
      ],
      "text/plain": [
       " mpg  cyl disp   hp drat   wt qsec   vs   am gear carb \n",
       "  25    3   27   22   22   29   30    2    2    3    6 "
      ]
     },
     "metadata": {},
     "output_type": "display_data"
    }
   ],
   "source": [
    "# map_int() always returns a integer vector\n",
    "n_unique <- function(x) length(unique(x))\n",
    "map_int(mtcars,n_unique)"
   ]
  },
  {
   "cell_type": "code",
   "execution_count": 59,
   "id": "b39eb446",
   "metadata": {},
   "outputs": [
    {
     "data": {
      "text/html": [
       "<dl class=dl-horizontal>\n",
       "\t<dt>mpg</dt>\n",
       "\t\t<dd>20.090625</dd>\n",
       "\t<dt>cyl</dt>\n",
       "\t\t<dd>6.1875</dd>\n",
       "\t<dt>disp</dt>\n",
       "\t\t<dd>230.721875</dd>\n",
       "\t<dt>hp</dt>\n",
       "\t\t<dd>146.6875</dd>\n",
       "\t<dt>drat</dt>\n",
       "\t\t<dd>3.5965625</dd>\n",
       "\t<dt>wt</dt>\n",
       "\t\t<dd>3.21725</dd>\n",
       "\t<dt>qsec</dt>\n",
       "\t\t<dd>17.84875</dd>\n",
       "\t<dt>vs</dt>\n",
       "\t\t<dd>0.4375</dd>\n",
       "\t<dt>am</dt>\n",
       "\t\t<dd>0.40625</dd>\n",
       "\t<dt>gear</dt>\n",
       "\t\t<dd>3.6875</dd>\n",
       "\t<dt>carb</dt>\n",
       "\t\t<dd>2.8125</dd>\n",
       "</dl>\n"
      ],
      "text/latex": [
       "\\begin{description*}\n",
       "\\item[mpg] 20.090625\n",
       "\\item[cyl] 6.1875\n",
       "\\item[disp] 230.721875\n",
       "\\item[hp] 146.6875\n",
       "\\item[drat] 3.5965625\n",
       "\\item[wt] 3.21725\n",
       "\\item[qsec] 17.84875\n",
       "\\item[vs] 0.4375\n",
       "\\item[am] 0.40625\n",
       "\\item[gear] 3.6875\n",
       "\\item[carb] 2.8125\n",
       "\\end{description*}\n"
      ],
      "text/markdown": [
       "mpg\n",
       ":   20.090625cyl\n",
       ":   6.1875disp\n",
       ":   230.721875hp\n",
       ":   146.6875drat\n",
       ":   3.5965625wt\n",
       ":   3.21725qsec\n",
       ":   17.84875vs\n",
       ":   0.4375am\n",
       ":   0.40625gear\n",
       ":   3.6875carb\n",
       ":   2.8125\n",
       "\n"
      ],
      "text/plain": [
       "       mpg        cyl       disp         hp       drat         wt       qsec \n",
       " 20.090625   6.187500 230.721875 146.687500   3.596563   3.217250  17.848750 \n",
       "        vs         am       gear       carb \n",
       "  0.437500   0.406250   3.687500   2.812500 "
      ]
     },
     "metadata": {},
     "output_type": "display_data"
    }
   ],
   "source": [
    "# map_dbl() always returns a double vector\n",
    "map_dbl(mtcars, mean)"
   ]
  },
  {
   "cell_type": "markdown",
   "id": "6c72c804",
   "metadata": {},
   "source": [
    "### des racourcis"
   ]
  },
  {
   "cell_type": "code",
   "execution_count": 60,
   "id": "0e69940c",
   "metadata": {},
   "outputs": [
    {
     "data": {
      "text/html": [
       "<table>\n",
       "<thead><tr><th></th><th scope=col>mpg</th><th scope=col>cyl</th><th scope=col>disp</th><th scope=col>hp</th><th scope=col>drat</th><th scope=col>wt</th><th scope=col>qsec</th><th scope=col>vs</th><th scope=col>am</th><th scope=col>gear</th><th scope=col>carb</th></tr></thead>\n",
       "<tbody>\n",
       "\t<tr><th scope=row>Mazda RX4</th><td>21.0 </td><td>6    </td><td>160  </td><td>110  </td><td>3.90 </td><td>2.620</td><td>16.46</td><td>0    </td><td>1    </td><td>4    </td><td>4    </td></tr>\n",
       "\t<tr><th scope=row>Mazda RX4 Wag</th><td>21.0 </td><td>6    </td><td>160  </td><td>110  </td><td>3.90 </td><td>2.875</td><td>17.02</td><td>0    </td><td>1    </td><td>4    </td><td>4    </td></tr>\n",
       "\t<tr><th scope=row>Datsun 710</th><td>22.8 </td><td>4    </td><td>108  </td><td> 93  </td><td>3.85 </td><td>2.320</td><td>18.61</td><td>1    </td><td>1    </td><td>4    </td><td>1    </td></tr>\n",
       "\t<tr><th scope=row>Hornet 4 Drive</th><td>21.4 </td><td>6    </td><td>258  </td><td>110  </td><td>3.08 </td><td>3.215</td><td>19.44</td><td>1    </td><td>0    </td><td>3    </td><td>1    </td></tr>\n",
       "\t<tr><th scope=row>Hornet Sportabout</th><td>18.7 </td><td>8    </td><td>360  </td><td>175  </td><td>3.15 </td><td>3.440</td><td>17.02</td><td>0    </td><td>0    </td><td>3    </td><td>2    </td></tr>\n",
       "\t<tr><th scope=row>Valiant</th><td>18.1 </td><td>6    </td><td>225  </td><td>105  </td><td>2.76 </td><td>3.460</td><td>20.22</td><td>1    </td><td>0    </td><td>3    </td><td>1    </td></tr>\n",
       "</tbody>\n",
       "</table>\n"
      ],
      "text/latex": [
       "\\begin{tabular}{r|lllllllllll}\n",
       "  & mpg & cyl & disp & hp & drat & wt & qsec & vs & am & gear & carb\\\\\n",
       "\\hline\n",
       "\tMazda RX4 & 21.0  & 6     & 160   & 110   & 3.90  & 2.620 & 16.46 & 0     & 1     & 4     & 4    \\\\\n",
       "\tMazda RX4 Wag & 21.0  & 6     & 160   & 110   & 3.90  & 2.875 & 17.02 & 0     & 1     & 4     & 4    \\\\\n",
       "\tDatsun 710 & 22.8  & 4     & 108   &  93   & 3.85  & 2.320 & 18.61 & 1     & 1     & 4     & 1    \\\\\n",
       "\tHornet 4 Drive & 21.4  & 6     & 258   & 110   & 3.08  & 3.215 & 19.44 & 1     & 0     & 3     & 1    \\\\\n",
       "\tHornet Sportabout & 18.7  & 8     & 360   & 175   & 3.15  & 3.440 & 17.02 & 0     & 0     & 3     & 2    \\\\\n",
       "\tValiant & 18.1  & 6     & 225   & 105   & 2.76  & 3.460 & 20.22 & 1     & 0     & 3     & 1    \\\\\n",
       "\\end{tabular}\n"
      ],
      "text/markdown": [
       "\n",
       "| <!--/--> | mpg | cyl | disp | hp | drat | wt | qsec | vs | am | gear | carb |\n",
       "|---|---|---|---|---|---|---|---|---|---|---|---|\n",
       "| Mazda RX4 | 21.0  | 6     | 160   | 110   | 3.90  | 2.620 | 16.46 | 0     | 1     | 4     | 4     |\n",
       "| Mazda RX4 Wag | 21.0  | 6     | 160   | 110   | 3.90  | 2.875 | 17.02 | 0     | 1     | 4     | 4     |\n",
       "| Datsun 710 | 22.8  | 4     | 108   |  93   | 3.85  | 2.320 | 18.61 | 1     | 1     | 4     | 1     |\n",
       "| Hornet 4 Drive | 21.4  | 6     | 258   | 110   | 3.08  | 3.215 | 19.44 | 1     | 0     | 3     | 1     |\n",
       "| Hornet Sportabout | 18.7  | 8     | 360   | 175   | 3.15  | 3.440 | 17.02 | 0     | 0     | 3     | 2     |\n",
       "| Valiant | 18.1  | 6     | 225   | 105   | 2.76  | 3.460 | 20.22 | 1     | 0     | 3     | 1     |\n",
       "\n"
      ],
      "text/plain": [
       "                  mpg  cyl disp hp  drat wt    qsec  vs am gear carb\n",
       "Mazda RX4         21.0 6   160  110 3.90 2.620 16.46 0  1  4    4   \n",
       "Mazda RX4 Wag     21.0 6   160  110 3.90 2.875 17.02 0  1  4    4   \n",
       "Datsun 710        22.8 4   108   93 3.85 2.320 18.61 1  1  4    1   \n",
       "Hornet 4 Drive    21.4 6   258  110 3.08 3.215 19.44 1  0  3    1   \n",
       "Hornet Sportabout 18.7 8   360  175 3.15 3.440 17.02 0  0  3    2   \n",
       "Valiant           18.1 6   225  105 2.76 3.460 20.22 1  0  3    1   "
      ]
     },
     "metadata": {},
     "output_type": "display_data"
    }
   ],
   "source": [
    "head(mtcars)"
   ]
  },
  {
   "cell_type": "code",
   "execution_count": 76,
   "id": "5eee38ef",
   "metadata": {},
   "outputs": [
    {
     "data": {
      "text/html": [
       "<ol>\n",
       "\t<li><ol class=list-inline>\n",
       "\t<li>0.0923298788256943</li>\n",
       "\t<li>0.626356834545732</li>\n",
       "\t<li>0.504637820413336</li>\n",
       "\t<li>0.248015437740833</li>\n",
       "\t<li>0.991798458620906</li>\n",
       "</ol>\n",
       "</li>\n",
       "\t<li><ol class=list-inline>\n",
       "\t<li>0.17685153032653</li>\n",
       "\t<li>0.368902693036944</li>\n",
       "\t<li>0.862209403188899</li>\n",
       "\t<li>0.40348073723726</li>\n",
       "\t<li>0.411404399899766</li>\n",
       "</ol>\n",
       "</li>\n",
       "\t<li><ol class=list-inline>\n",
       "\t<li>0.691614037845284</li>\n",
       "\t<li>0.149285533698276</li>\n",
       "\t<li>0.835809302749112</li>\n",
       "\t<li>0.286181894363835</li>\n",
       "\t<li>0.18098485050723</li>\n",
       "</ol>\n",
       "</li>\n",
       "\t<li><ol class=list-inline>\n",
       "\t<li>0.628777956357226</li>\n",
       "\t<li>0.315226794220507</li>\n",
       "\t<li>0.886253086384386</li>\n",
       "\t<li>0.256977082462981</li>\n",
       "\t<li>0.428850283380598</li>\n",
       "</ol>\n",
       "</li>\n",
       "\t<li><ol class=list-inline>\n",
       "\t<li>0.050933409947902</li>\n",
       "\t<li>0.0281618973240256</li>\n",
       "\t<li>0.128306521801278</li>\n",
       "\t<li>0.855380551191047</li>\n",
       "\t<li>0.131068972405046</li>\n",
       "</ol>\n",
       "</li>\n",
       "</ol>\n"
      ],
      "text/latex": [
       "\\begin{enumerate}\n",
       "\\item \\begin{enumerate*}\n",
       "\\item 0.0923298788256943\n",
       "\\item 0.626356834545732\n",
       "\\item 0.504637820413336\n",
       "\\item 0.248015437740833\n",
       "\\item 0.991798458620906\n",
       "\\end{enumerate*}\n",
       "\n",
       "\\item \\begin{enumerate*}\n",
       "\\item 0.17685153032653\n",
       "\\item 0.368902693036944\n",
       "\\item 0.862209403188899\n",
       "\\item 0.40348073723726\n",
       "\\item 0.411404399899766\n",
       "\\end{enumerate*}\n",
       "\n",
       "\\item \\begin{enumerate*}\n",
       "\\item 0.691614037845284\n",
       "\\item 0.149285533698276\n",
       "\\item 0.835809302749112\n",
       "\\item 0.286181894363835\n",
       "\\item 0.18098485050723\n",
       "\\end{enumerate*}\n",
       "\n",
       "\\item \\begin{enumerate*}\n",
       "\\item 0.628777956357226\n",
       "\\item 0.315226794220507\n",
       "\\item 0.886253086384386\n",
       "\\item 0.256977082462981\n",
       "\\item 0.428850283380598\n",
       "\\end{enumerate*}\n",
       "\n",
       "\\item \\begin{enumerate*}\n",
       "\\item 0.050933409947902\n",
       "\\item 0.0281618973240256\n",
       "\\item 0.128306521801278\n",
       "\\item 0.855380551191047\n",
       "\\item 0.131068972405046\n",
       "\\end{enumerate*}\n",
       "\n",
       "\\end{enumerate}\n"
      ],
      "text/markdown": [
       "1. 1. 0.0923298788256943\n",
       "2. 0.626356834545732\n",
       "3. 0.504637820413336\n",
       "4. 0.248015437740833\n",
       "5. 0.991798458620906\n",
       "\n",
       "\n",
       "\n",
       "2. 1. 0.17685153032653\n",
       "2. 0.368902693036944\n",
       "3. 0.862209403188899\n",
       "4. 0.40348073723726\n",
       "5. 0.411404399899766\n",
       "\n",
       "\n",
       "\n",
       "3. 1. 0.691614037845284\n",
       "2. 0.149285533698276\n",
       "3. 0.835809302749112\n",
       "4. 0.286181894363835\n",
       "5. 0.18098485050723\n",
       "\n",
       "\n",
       "\n",
       "4. 1. 0.628777956357226\n",
       "2. 0.315226794220507\n",
       "3. 0.886253086384386\n",
       "4. 0.256977082462981\n",
       "5. 0.428850283380598\n",
       "\n",
       "\n",
       "\n",
       "5. 1. 0.050933409947902\n",
       "2. 0.0281618973240256\n",
       "3. 0.128306521801278\n",
       "4. 0.855380551191047\n",
       "5. 0.131068972405046\n",
       "\n",
       "\n",
       "\n",
       "\n",
       "\n"
      ],
      "text/plain": [
       "[[1]]\n",
       "[1] 0.09232988 0.62635683 0.50463782 0.24801544 0.99179846\n",
       "\n",
       "[[2]]\n",
       "[1] 0.1768515 0.3689027 0.8622094 0.4034807 0.4114044\n",
       "\n",
       "[[3]]\n",
       "[1] 0.6916140 0.1492855 0.8358093 0.2861819 0.1809849\n",
       "\n",
       "[[4]]\n",
       "[1] 0.6287780 0.3152268 0.8862531 0.2569771 0.4288503\n",
       "\n",
       "[[5]]\n",
       "[1] 0.05093341 0.02816190 0.12830652 0.85538055 0.13106897\n"
      ]
     },
     "metadata": {},
     "output_type": "display_data"
    },
    {
     "data": {
      "text/html": [
       "'list'"
      ],
      "text/latex": [
       "'list'"
      ],
      "text/markdown": [
       "'list'"
      ],
      "text/plain": [
       "[1] \"list\""
      ]
     },
     "metadata": {},
     "output_type": "display_data"
    },
    {
     "data": {
      "text/html": [
       "'list'"
      ],
      "text/latex": [
       "'list'"
      ],
      "text/markdown": [
       "'list'"
      ],
      "text/plain": [
       "[1] \"list\""
      ]
     },
     "metadata": {},
     "output_type": "display_data"
    },
    {
     "data": {
      "text/html": [
       "<table>\n",
       "<thead><tr><th scope=col>V1</th><th scope=col>V2</th><th scope=col>V3</th><th scope=col>V4</th><th scope=col>V5</th></tr></thead>\n",
       "<tbody>\n",
       "\t<tr><td>0.09232988</td><td>0.1768515 </td><td>0.6916140 </td><td>0.6287780 </td><td>0.05093341</td></tr>\n",
       "\t<tr><td>0.62635683</td><td>0.3689027 </td><td>0.1492855 </td><td>0.3152268 </td><td>0.02816190</td></tr>\n",
       "\t<tr><td>0.50463782</td><td>0.8622094 </td><td>0.8358093 </td><td>0.8862531 </td><td>0.12830652</td></tr>\n",
       "\t<tr><td>0.24801544</td><td>0.4034807 </td><td>0.2861819 </td><td>0.2569771 </td><td>0.85538055</td></tr>\n",
       "\t<tr><td>0.99179846</td><td>0.4114044 </td><td>0.1809849 </td><td>0.4288503 </td><td>0.13106897</td></tr>\n",
       "</tbody>\n",
       "</table>\n"
      ],
      "text/latex": [
       "\\begin{tabular}{r|lllll}\n",
       " V1 & V2 & V3 & V4 & V5\\\\\n",
       "\\hline\n",
       "\t 0.09232988 & 0.1768515  & 0.6916140  & 0.6287780  & 0.05093341\\\\\n",
       "\t 0.62635683 & 0.3689027  & 0.1492855  & 0.3152268  & 0.02816190\\\\\n",
       "\t 0.50463782 & 0.8622094  & 0.8358093  & 0.8862531  & 0.12830652\\\\\n",
       "\t 0.24801544 & 0.4034807  & 0.2861819  & 0.2569771  & 0.85538055\\\\\n",
       "\t 0.99179846 & 0.4114044  & 0.1809849  & 0.4288503  & 0.13106897\\\\\n",
       "\\end{tabular}\n"
      ],
      "text/markdown": [
       "\n",
       "| V1 | V2 | V3 | V4 | V5 |\n",
       "|---|---|---|---|---|\n",
       "| 0.09232988 | 0.1768515  | 0.6916140  | 0.6287780  | 0.05093341 |\n",
       "| 0.62635683 | 0.3689027  | 0.1492855  | 0.3152268  | 0.02816190 |\n",
       "| 0.50463782 | 0.8622094  | 0.8358093  | 0.8862531  | 0.12830652 |\n",
       "| 0.24801544 | 0.4034807  | 0.2861819  | 0.2569771  | 0.85538055 |\n",
       "| 0.99179846 | 0.4114044  | 0.1809849  | 0.4288503  | 0.13106897 |\n",
       "\n"
      ],
      "text/plain": [
       "  V1         V2        V3        V4        V5        \n",
       "1 0.09232988 0.1768515 0.6916140 0.6287780 0.05093341\n",
       "2 0.62635683 0.3689027 0.1492855 0.3152268 0.02816190\n",
       "3 0.50463782 0.8622094 0.8358093 0.8862531 0.12830652\n",
       "4 0.24801544 0.4034807 0.2861819 0.2569771 0.85538055\n",
       "5 0.99179846 0.4114044 0.1809849 0.4288503 0.13106897"
      ]
     },
     "metadata": {},
     "output_type": "display_data"
    }
   ],
   "source": [
    "res=map(1:5, ~runif(5))\n",
    "res\n",
    "typeof(res)\n",
    "\n",
    "res1=as.data.frame(do.call(\"cbind\",res))\n",
    "typeof(res1)\n",
    "res1"
   ]
  },
  {
   "cell_type": "code",
   "execution_count": 4,
   "id": "1c256ca6",
   "metadata": {},
   "outputs": [
    {
     "ename": "ERROR",
     "evalue": "Error in map_dbl(x, plus, 3): impossible de trouver la fonction \"map_dbl\"\n",
     "output_type": "error",
     "traceback": [
      "Error in map_dbl(x, plus, 3): impossible de trouver la fonction \"map_dbl\"\nTraceback:\n"
     ]
    }
   ],
   "source": [
    "plus <- function(x, y) x + y\n",
    "\n",
    "x <- c(0, 0, 0, 0)\n",
    "map_dbl(x, plus, 3)"
   ]
  },
  {
   "cell_type": "markdown",
   "id": "fc413908",
   "metadata": {},
   "source": [
    "## map2\n",
    "\n",
    "<table bgcolor=\"white\">\n",
    "    <tr><td><img src='https://d33wubrfki0l68.cloudfront.net/f5cddf51ec9c243a7c13732b0ce46b0868bf8a31/501a8/diagrams/functionals/map2.png'>\n",
    "        </td><td><img src='https://d33wubrfki0l68.cloudfront.net/7a545699ff7069a98329fcfbe6e42b734507eb16/211a5/diagrams/functionals/map2-arg.png'></td></tr>\n",
    "</table>"
   ]
  },
  {
   "cell_type": "code",
   "execution_count": 79,
   "id": "2aadec50",
   "metadata": {},
   "outputs": [
    {
     "data": {
      "text/html": [
       "<ol class=list-inline>\n",
       "\t<li>2</li>\n",
       "\t<li>4</li>\n",
       "\t<li>6</li>\n",
       "\t<li>8</li>\n",
       "\t<li>10</li>\n",
       "\t<li>12</li>\n",
       "\t<li>14</li>\n",
       "\t<li>16</li>\n",
       "\t<li>18</li>\n",
       "\t<li>20</li>\n",
       "</ol>\n"
      ],
      "text/latex": [
       "\\begin{enumerate*}\n",
       "\\item 2\n",
       "\\item 4\n",
       "\\item 6\n",
       "\\item 8\n",
       "\\item 10\n",
       "\\item 12\n",
       "\\item 14\n",
       "\\item 16\n",
       "\\item 18\n",
       "\\item 20\n",
       "\\end{enumerate*}\n"
      ],
      "text/markdown": [
       "1. 2\n",
       "2. 4\n",
       "3. 6\n",
       "4. 8\n",
       "5. 10\n",
       "6. 12\n",
       "7. 14\n",
       "8. 16\n",
       "9. 18\n",
       "10. 20\n",
       "\n",
       "\n"
      ],
      "text/plain": [
       " [1]  2  4  6  8 10 12 14 16 18 20"
      ]
     },
     "metadata": {},
     "output_type": "display_data"
    }
   ],
   "source": [
    "xs=1:10\n",
    "ws=1:10\n",
    "map2_dbl(xs, ws,function(x,y){x+y})"
   ]
  },
  {
   "cell_type": "markdown",
   "id": "5e66acef",
   "metadata": {},
   "source": [
    "### pmap\n",
    "\n",
    "<table bgcolor=\"white\">\n",
    "    <tr><td><img src='https://d33wubrfki0l68.cloudfront.net/e426c5755e2e65bdcc073d387775db79791f32fd/92902/diagrams/functionals/pmap.png'>\n",
    "        </td><td><img src='https://d33wubrfki0l68.cloudfront.net/2eb2eefe34ad6d114da2a22df42deac8511b4788/5a538/diagrams/functionals/pmap-arg.png'></td>\n",
    "    <td><img src='https://d33wubrfki0l68.cloudfront.net/e698354d802ce16f83546db63c45a19b8d51f45e/43de7/diagrams/functionals/pmap-3.png'></td></tr>\n",
    "</table>\n"
   ]
  },
  {
   "cell_type": "code",
   "execution_count": 81,
   "id": "1b71c9ba",
   "metadata": {},
   "outputs": [
    {
     "data": {
      "text/html": [
       "<ol>\n",
       "\t<li>13</li>\n",
       "\t<li>16</li>\n",
       "\t<li>19</li>\n",
       "\t<li>22</li>\n",
       "\t<li>25</li>\n",
       "\t<li>28</li>\n",
       "\t<li>31</li>\n",
       "\t<li>34</li>\n",
       "\t<li>37</li>\n",
       "\t<li>40</li>\n",
       "</ol>\n"
      ],
      "text/latex": [
       "\\begin{enumerate}\n",
       "\\item 13\n",
       "\\item 16\n",
       "\\item 19\n",
       "\\item 22\n",
       "\\item 25\n",
       "\\item 28\n",
       "\\item 31\n",
       "\\item 34\n",
       "\\item 37\n",
       "\\item 40\n",
       "\\end{enumerate}\n"
      ],
      "text/markdown": [
       "1. 13\n",
       "2. 16\n",
       "3. 19\n",
       "4. 22\n",
       "5. 25\n",
       "6. 28\n",
       "7. 31\n",
       "8. 34\n",
       "9. 37\n",
       "10. 40\n",
       "\n",
       "\n"
      ],
      "text/plain": [
       "[[1]]\n",
       "[1] 13\n",
       "\n",
       "[[2]]\n",
       "[1] 16\n",
       "\n",
       "[[3]]\n",
       "[1] 19\n",
       "\n",
       "[[4]]\n",
       "[1] 22\n",
       "\n",
       "[[5]]\n",
       "[1] 25\n",
       "\n",
       "[[6]]\n",
       "[1] 28\n",
       "\n",
       "[[7]]\n",
       "[1] 31\n",
       "\n",
       "[[8]]\n",
       "[1] 34\n",
       "\n",
       "[[9]]\n",
       "[1] 37\n",
       "\n",
       "[[10]]\n",
       "[1] 40\n"
      ]
     },
     "metadata": {},
     "output_type": "display_data"
    }
   ],
   "source": [
    "xs=1:10\n",
    "ws=1:10\n",
    "t=11:20\n",
    "pmap(list(xs, ws,t),function(x,y,k){x+y+k})"
   ]
  },
  {
   "cell_type": "markdown",
   "id": "263f816f",
   "metadata": {},
   "source": [
    "## walk\n",
    "\n",
    "<table bgcolor=\"white\">\n",
    "    <tr><td><img src='https://d33wubrfki0l68.cloudfront.net/d16783978b0d33756af9951ad3fba2596eb8e934/233ba/diagrams/functionals/walk.png'>\n",
    "        </td><td><img src='https://d33wubrfki0l68.cloudfront.net/19d5f7d265107c81dded3e98319d48ec01821308/b8621/diagrams/functionals/walk2.png'></td></tr>\n",
    "</table>\n",
    "\n",
    "Pas besoin de sortie\n",
    "\n"
   ]
  },
  {
   "cell_type": "code",
   "execution_count": 83,
   "id": "78d7fe3e",
   "metadata": {},
   "outputs": [
    {
     "name": "stdout",
     "output_type": "stream",
     "text": [
      "Welcome Elize!\n",
      "Welcome Khady!\n"
     ]
    },
    {
     "data": {
      "text/html": [
       "<ol>\n",
       "\t<li>NULL</li>\n",
       "\t<li>NULL</li>\n",
       "</ol>\n"
      ],
      "text/latex": [
       "\\begin{enumerate}\n",
       "\\item NULL\n",
       "\\item NULL\n",
       "\\end{enumerate}\n"
      ],
      "text/markdown": [
       "1. NULL\n",
       "2. NULL\n",
       "\n",
       "\n"
      ],
      "text/plain": [
       "[[1]]\n",
       "NULL\n",
       "\n",
       "[[2]]\n",
       "NULL\n"
      ]
     },
     "metadata": {},
     "output_type": "display_data"
    },
    {
     "name": "stdout",
     "output_type": "stream",
     "text": [
      "Welcome Elize!\n",
      "Welcome Khady!\n"
     ]
    }
   ],
   "source": [
    "welcome <- function(x) {\n",
    "  cat(\"Welcome \", x, \"!\\n\", sep = \"\")\n",
    "}\n",
    "names <- c(\"Elize\", \"Khady\")\n",
    "\n",
    "map(names, welcome)\n",
    "\n",
    "walk(names,welcome)\n"
   ]
  },
  {
   "cell_type": "code",
   "execution_count": 84,
   "id": "072150ca",
   "metadata": {},
   "outputs": [
    {
     "data": {
      "text/html": [
       "<ol class=list-inline>\n",
       "\t<li>setosa</li>\n",
       "\t<li>versicolor</li>\n",
       "\t<li>virginica</li>\n",
       "</ol>\n",
       "\n",
       "<details>\n",
       "\t<summary style=display:list-item;cursor:pointer>\n",
       "\t\t<strong>Levels</strong>:\n",
       "\t</summary>\n",
       "\t<ol class=list-inline>\n",
       "\t\t<li>'setosa'</li>\n",
       "\t\t<li>'versicolor'</li>\n",
       "\t\t<li>'virginica'</li>\n",
       "\t</ol>\n",
       "</details>"
      ],
      "text/latex": [
       "\\begin{enumerate*}\n",
       "\\item setosa\n",
       "\\item versicolor\n",
       "\\item virginica\n",
       "\\end{enumerate*}\n",
       "\n",
       "\\emph{Levels}: \\begin{enumerate*}\n",
       "\\item 'setosa'\n",
       "\\item 'versicolor'\n",
       "\\item 'virginica'\n",
       "\\end{enumerate*}\n"
      ],
      "text/markdown": [
       "1. setosa\n",
       "2. versicolor\n",
       "3. virginica\n",
       "\n",
       "\n",
       "\n",
       "**Levels**: 1. 'setosa'\n",
       "2. 'versicolor'\n",
       "3. 'virginica'\n",
       "\n",
       "\n"
      ],
      "text/plain": [
       "[1] setosa     versicolor virginica \n",
       "Levels: setosa versicolor virginica"
      ]
     },
     "metadata": {},
     "output_type": "display_data"
    }
   ],
   "source": [
    "unique(iris$Species)"
   ]
  },
  {
   "cell_type": "code",
   "execution_count": 86,
   "id": "84089edd",
   "metadata": {},
   "outputs": [
    {
     "data": {
      "text/html": [
       "'list'"
      ],
      "text/latex": [
       "'list'"
      ],
      "text/markdown": [
       "'list'"
      ],
      "text/plain": [
       "[1] \"list\""
      ]
     },
     "metadata": {},
     "output_type": "display_data"
    }
   ],
   "source": [
    "temp <- tempfile()\n",
    "dir.create(temp)\n",
    "\n",
    "cyls <- split(iris, iris$Species)\n",
    "\n",
    "typeof(cyls)"
   ]
  },
  {
   "cell_type": "code",
   "execution_count": 88,
   "id": "89294447",
   "metadata": {},
   "outputs": [
    {
     "data": {
      "text/html": [
       "<ol class=list-inline>\n",
       "\t<li>'C:\\\\Users\\\\USER\\\\AppData\\\\Local\\\\Temp\\\\Rtmp4gMgnv\\\\file5b44229c3f42/cyl-setosa.csv'</li>\n",
       "\t<li>'C:\\\\Users\\\\USER\\\\AppData\\\\Local\\\\Temp\\\\Rtmp4gMgnv\\\\file5b44229c3f42/cyl-versicolor.csv'</li>\n",
       "\t<li>'C:\\\\Users\\\\USER\\\\AppData\\\\Local\\\\Temp\\\\Rtmp4gMgnv\\\\file5b44229c3f42/cyl-virginica.csv'</li>\n",
       "</ol>\n"
      ],
      "text/latex": [
       "\\begin{enumerate*}\n",
       "\\item 'C:\\textbackslash{}\\textbackslash{}Users\\textbackslash{}\\textbackslash{}USER\\textbackslash{}\\textbackslash{}AppData\\textbackslash{}\\textbackslash{}Local\\textbackslash{}\\textbackslash{}Temp\\textbackslash{}\\textbackslash{}Rtmp4gMgnv\\textbackslash{}\\textbackslash{}file5b44229c3f42/cyl-setosa.csv'\n",
       "\\item 'C:\\textbackslash{}\\textbackslash{}Users\\textbackslash{}\\textbackslash{}USER\\textbackslash{}\\textbackslash{}AppData\\textbackslash{}\\textbackslash{}Local\\textbackslash{}\\textbackslash{}Temp\\textbackslash{}\\textbackslash{}Rtmp4gMgnv\\textbackslash{}\\textbackslash{}file5b44229c3f42/cyl-versicolor.csv'\n",
       "\\item 'C:\\textbackslash{}\\textbackslash{}Users\\textbackslash{}\\textbackslash{}USER\\textbackslash{}\\textbackslash{}AppData\\textbackslash{}\\textbackslash{}Local\\textbackslash{}\\textbackslash{}Temp\\textbackslash{}\\textbackslash{}Rtmp4gMgnv\\textbackslash{}\\textbackslash{}file5b44229c3f42/cyl-virginica.csv'\n",
       "\\end{enumerate*}\n"
      ],
      "text/markdown": [
       "1. 'C:\\\\Users\\\\USER\\\\AppData\\\\Local\\\\Temp\\\\Rtmp4gMgnv\\\\file5b44229c3f42/cyl-setosa.csv'\n",
       "2. 'C:\\\\Users\\\\USER\\\\AppData\\\\Local\\\\Temp\\\\Rtmp4gMgnv\\\\file5b44229c3f42/cyl-versicolor.csv'\n",
       "3. 'C:\\\\Users\\\\USER\\\\AppData\\\\Local\\\\Temp\\\\Rtmp4gMgnv\\\\file5b44229c3f42/cyl-virginica.csv'\n",
       "\n",
       "\n"
      ],
      "text/plain": [
       "[1] \"C:\\\\Users\\\\USER\\\\AppData\\\\Local\\\\Temp\\\\Rtmp4gMgnv\\\\file5b44229c3f42/cyl-setosa.csv\"    \n",
       "[2] \"C:\\\\Users\\\\USER\\\\AppData\\\\Local\\\\Temp\\\\Rtmp4gMgnv\\\\file5b44229c3f42/cyl-versicolor.csv\"\n",
       "[3] \"C:\\\\Users\\\\USER\\\\AppData\\\\Local\\\\Temp\\\\Rtmp4gMgnv\\\\file5b44229c3f42/cyl-virginica.csv\" "
      ]
     },
     "metadata": {},
     "output_type": "display_data"
    }
   ],
   "source": [
    "paths <- file.path(temp, paste0(\"cyl-\", names(cyls), \".csv\"))\n",
    "paths"
   ]
  },
  {
   "cell_type": "code",
   "execution_count": 89,
   "id": "5e057515",
   "metadata": {},
   "outputs": [],
   "source": [
    "walk2(cyls, paths, write.csv)"
   ]
  },
  {
   "cell_type": "code",
   "execution_count": 90,
   "id": "6f93d580",
   "metadata": {},
   "outputs": [
    {
     "data": {
      "text/html": [
       "<ol class=list-inline>\n",
       "\t<li>'cyl-setosa.csv'</li>\n",
       "\t<li>'cyl-versicolor.csv'</li>\n",
       "\t<li>'cyl-virginica.csv'</li>\n",
       "</ol>\n"
      ],
      "text/latex": [
       "\\begin{enumerate*}\n",
       "\\item 'cyl-setosa.csv'\n",
       "\\item 'cyl-versicolor.csv'\n",
       "\\item 'cyl-virginica.csv'\n",
       "\\end{enumerate*}\n"
      ],
      "text/markdown": [
       "1. 'cyl-setosa.csv'\n",
       "2. 'cyl-versicolor.csv'\n",
       "3. 'cyl-virginica.csv'\n",
       "\n",
       "\n"
      ],
      "text/plain": [
       "[1] \"cyl-setosa.csv\"     \"cyl-versicolor.csv\" \"cyl-virginica.csv\" "
      ]
     },
     "metadata": {},
     "output_type": "display_data"
    }
   ],
   "source": [
    "dir(temp)"
   ]
  },
  {
   "cell_type": "markdown",
   "id": "1b85640a",
   "metadata": {},
   "source": [
    "Ici le walk2() est équivalent à `write.csv(cyls[[1]], paths[[1]])`, `write.csv(cyls[[2]], paths[[2]])`, `write.csv(cyls[[3]], paths[[3]])`."
   ]
  },
  {
   "cell_type": "markdown",
   "id": "dd57ba25",
   "metadata": {},
   "source": [
    "# Reduce\n",
    "reduce() prend un vecteur de longueur n et produit un vecteur de longueur 1 en appelant une fonction avec une paire de valeurs à la fois : `reduce(1:4, f)` est équivalent à `f(f(f(1, 2), 3), 4)`.\n",
    "\n",
    "<table bgcolor=\"white\">\n",
    "    <tr><td><img src='https://d33wubrfki0l68.cloudfront.net/9c239e1227c69b7a2c9c2df234c21f3e1c74dd57/eec0e/diagrams/functionals/reduce.png'>\n",
    "        </td><td><img src='https://d33wubrfki0l68.cloudfront.net/3f81c662fd1b426d7ce21e9369a10adcaa776272/f4809/diagrams/functionals/reduce-arg.png'></td></tr>\n",
    "</table>\n",
    "\n",
    "Pas besoin de sortie\n",
    "\n"
   ]
  },
  {
   "cell_type": "code",
   "execution_count": 92,
   "id": "5bf9e944",
   "metadata": {
    "scrolled": true
   },
   "outputs": [
    {
     "data": {
      "text/html": [
       "<ol>\n",
       "\t<li><ol class=list-inline>\n",
       "\t<li>6</li>\n",
       "\t<li>2</li>\n",
       "\t<li>1</li>\n",
       "\t<li>6</li>\n",
       "\t<li>4</li>\n",
       "\t<li>7</li>\n",
       "\t<li>1</li>\n",
       "\t<li>7</li>\n",
       "\t<li>8</li>\n",
       "\t<li>10</li>\n",
       "\t<li>8</li>\n",
       "\t<li>1</li>\n",
       "\t<li>2</li>\n",
       "\t<li>1</li>\n",
       "\t<li>6</li>\n",
       "</ol>\n",
       "</li>\n",
       "\t<li><ol class=list-inline>\n",
       "\t<li>3</li>\n",
       "\t<li>1</li>\n",
       "\t<li>10</li>\n",
       "\t<li>3</li>\n",
       "\t<li>3</li>\n",
       "\t<li>2</li>\n",
       "\t<li>2</li>\n",
       "\t<li>5</li>\n",
       "\t<li>6</li>\n",
       "\t<li>8</li>\n",
       "\t<li>4</li>\n",
       "\t<li>4</li>\n",
       "\t<li>5</li>\n",
       "\t<li>5</li>\n",
       "\t<li>5</li>\n",
       "</ol>\n",
       "</li>\n",
       "\t<li><ol class=list-inline>\n",
       "\t<li>7</li>\n",
       "\t<li>1</li>\n",
       "\t<li>4</li>\n",
       "\t<li>6</li>\n",
       "\t<li>10</li>\n",
       "\t<li>4</li>\n",
       "\t<li>1</li>\n",
       "\t<li>2</li>\n",
       "\t<li>2</li>\n",
       "\t<li>8</li>\n",
       "\t<li>6</li>\n",
       "\t<li>10</li>\n",
       "\t<li>5</li>\n",
       "\t<li>5</li>\n",
       "\t<li>7</li>\n",
       "</ol>\n",
       "</li>\n",
       "\t<li><ol class=list-inline>\n",
       "\t<li>2</li>\n",
       "\t<li>3</li>\n",
       "\t<li>3</li>\n",
       "\t<li>2</li>\n",
       "\t<li>9</li>\n",
       "\t<li>8</li>\n",
       "\t<li>8</li>\n",
       "\t<li>3</li>\n",
       "\t<li>9</li>\n",
       "\t<li>6</li>\n",
       "\t<li>10</li>\n",
       "\t<li>7</li>\n",
       "\t<li>10</li>\n",
       "\t<li>10</li>\n",
       "\t<li>2</li>\n",
       "</ol>\n",
       "</li>\n",
       "</ol>\n"
      ],
      "text/latex": [
       "\\begin{enumerate}\n",
       "\\item \\begin{enumerate*}\n",
       "\\item 6\n",
       "\\item 2\n",
       "\\item 1\n",
       "\\item 6\n",
       "\\item 4\n",
       "\\item 7\n",
       "\\item 1\n",
       "\\item 7\n",
       "\\item 8\n",
       "\\item 10\n",
       "\\item 8\n",
       "\\item 1\n",
       "\\item 2\n",
       "\\item 1\n",
       "\\item 6\n",
       "\\end{enumerate*}\n",
       "\n",
       "\\item \\begin{enumerate*}\n",
       "\\item 3\n",
       "\\item 1\n",
       "\\item 10\n",
       "\\item 3\n",
       "\\item 3\n",
       "\\item 2\n",
       "\\item 2\n",
       "\\item 5\n",
       "\\item 6\n",
       "\\item 8\n",
       "\\item 4\n",
       "\\item 4\n",
       "\\item 5\n",
       "\\item 5\n",
       "\\item 5\n",
       "\\end{enumerate*}\n",
       "\n",
       "\\item \\begin{enumerate*}\n",
       "\\item 7\n",
       "\\item 1\n",
       "\\item 4\n",
       "\\item 6\n",
       "\\item 10\n",
       "\\item 4\n",
       "\\item 1\n",
       "\\item 2\n",
       "\\item 2\n",
       "\\item 8\n",
       "\\item 6\n",
       "\\item 10\n",
       "\\item 5\n",
       "\\item 5\n",
       "\\item 7\n",
       "\\end{enumerate*}\n",
       "\n",
       "\\item \\begin{enumerate*}\n",
       "\\item 2\n",
       "\\item 3\n",
       "\\item 3\n",
       "\\item 2\n",
       "\\item 9\n",
       "\\item 8\n",
       "\\item 8\n",
       "\\item 3\n",
       "\\item 9\n",
       "\\item 6\n",
       "\\item 10\n",
       "\\item 7\n",
       "\\item 10\n",
       "\\item 10\n",
       "\\item 2\n",
       "\\end{enumerate*}\n",
       "\n",
       "\\end{enumerate}\n"
      ],
      "text/markdown": [
       "1. 1. 6\n",
       "2. 2\n",
       "3. 1\n",
       "4. 6\n",
       "5. 4\n",
       "6. 7\n",
       "7. 1\n",
       "8. 7\n",
       "9. 8\n",
       "10. 10\n",
       "11. 8\n",
       "12. 1\n",
       "13. 2\n",
       "14. 1\n",
       "15. 6\n",
       "\n",
       "\n",
       "\n",
       "2. 1. 3\n",
       "2. 1\n",
       "3. 10\n",
       "4. 3\n",
       "5. 3\n",
       "6. 2\n",
       "7. 2\n",
       "8. 5\n",
       "9. 6\n",
       "10. 8\n",
       "11. 4\n",
       "12. 4\n",
       "13. 5\n",
       "14. 5\n",
       "15. 5\n",
       "\n",
       "\n",
       "\n",
       "3. 1. 7\n",
       "2. 1\n",
       "3. 4\n",
       "4. 6\n",
       "5. 10\n",
       "6. 4\n",
       "7. 1\n",
       "8. 2\n",
       "9. 2\n",
       "10. 8\n",
       "11. 6\n",
       "12. 10\n",
       "13. 5\n",
       "14. 5\n",
       "15. 7\n",
       "\n",
       "\n",
       "\n",
       "4. 1. 2\n",
       "2. 3\n",
       "3. 3\n",
       "4. 2\n",
       "5. 9\n",
       "6. 8\n",
       "7. 8\n",
       "8. 3\n",
       "9. 9\n",
       "10. 6\n",
       "11. 10\n",
       "12. 7\n",
       "13. 10\n",
       "14. 10\n",
       "15. 2\n",
       "\n",
       "\n",
       "\n",
       "\n",
       "\n"
      ],
      "text/plain": [
       "[[1]]\n",
       " [1]  6  2  1  6  4  7  1  7  8 10  8  1  2  1  6\n",
       "\n",
       "[[2]]\n",
       " [1]  3  1 10  3  3  2  2  5  6  8  4  4  5  5  5\n",
       "\n",
       "[[3]]\n",
       " [1]  7  1  4  6 10  4  1  2  2  8  6 10  5  5  7\n",
       "\n",
       "[[4]]\n",
       " [1]  2  3  3  2  9  8  8  3  9  6 10  7 10 10  2\n"
      ]
     },
     "metadata": {},
     "output_type": "display_data"
    }
   ],
   "source": [
    "l <- map(1:4, ~ sample(1:10, 15, replace = T))\n",
    "l"
   ]
  },
  {
   "cell_type": "code",
   "execution_count": 94,
   "id": "552d08f9",
   "metadata": {},
   "outputs": [
    {
     "data": {
      "text/html": [
       "<ol class=list-inline>\n",
       "\t<li>6</li>\n",
       "\t<li>2</li>\n",
       "\t<li>8</li>\n",
       "\t<li>10</li>\n",
       "</ol>\n"
      ],
      "text/latex": [
       "\\begin{enumerate*}\n",
       "\\item 6\n",
       "\\item 2\n",
       "\\item 8\n",
       "\\item 10\n",
       "\\end{enumerate*}\n"
      ],
      "text/markdown": [
       "1. 6\n",
       "2. 2\n",
       "3. 8\n",
       "4. 10\n",
       "\n",
       "\n"
      ],
      "text/plain": [
       "[1]  6  2  8 10"
      ]
     },
     "metadata": {},
     "output_type": "display_data"
    },
    {
     "data": {
      "text/html": [
       "<ol class=list-inline>\n",
       "\t<li>6</li>\n",
       "\t<li>2</li>\n",
       "\t<li>1</li>\n",
       "\t<li>4</li>\n",
       "\t<li>7</li>\n",
       "\t<li>8</li>\n",
       "\t<li>10</li>\n",
       "\t<li>3</li>\n",
       "\t<li>5</li>\n",
       "\t<li>9</li>\n",
       "</ol>\n"
      ],
      "text/latex": [
       "\\begin{enumerate*}\n",
       "\\item 6\n",
       "\\item 2\n",
       "\\item 1\n",
       "\\item 4\n",
       "\\item 7\n",
       "\\item 8\n",
       "\\item 10\n",
       "\\item 3\n",
       "\\item 5\n",
       "\\item 9\n",
       "\\end{enumerate*}\n"
      ],
      "text/markdown": [
       "1. 6\n",
       "2. 2\n",
       "3. 1\n",
       "4. 4\n",
       "5. 7\n",
       "6. 8\n",
       "7. 10\n",
       "8. 3\n",
       "9. 5\n",
       "10. 9\n",
       "\n",
       "\n"
      ],
      "text/plain": [
       " [1]  6  2  1  4  7  8 10  3  5  9"
      ]
     },
     "metadata": {},
     "output_type": "display_data"
    }
   ],
   "source": [
    "reduce(l,intersect)\n",
    "reduce(l,union)"
   ]
  },
  {
   "cell_type": "markdown",
   "id": "4c113ee2",
   "metadata": {},
   "source": [
    "### accumulate\n",
    "La première variante de reduce(), accumulate(), est utile pour comprendre le fonctionnement de reduce, car au lieu de renvoyer uniquement le résultat final, elle renvoie également tous les résultats intermédiaires :"
   ]
  },
  {
   "cell_type": "code",
   "execution_count": 95,
   "id": "ee880c53",
   "metadata": {},
   "outputs": [
    {
     "data": {
      "text/html": [
       "<ol>\n",
       "\t<li><ol class=list-inline>\n",
       "\t<li>6</li>\n",
       "\t<li>2</li>\n",
       "\t<li>1</li>\n",
       "\t<li>6</li>\n",
       "\t<li>4</li>\n",
       "\t<li>7</li>\n",
       "\t<li>1</li>\n",
       "\t<li>7</li>\n",
       "\t<li>8</li>\n",
       "\t<li>10</li>\n",
       "\t<li>8</li>\n",
       "\t<li>1</li>\n",
       "\t<li>2</li>\n",
       "\t<li>1</li>\n",
       "\t<li>6</li>\n",
       "</ol>\n",
       "</li>\n",
       "\t<li><ol class=list-inline>\n",
       "\t<li>6</li>\n",
       "\t<li>2</li>\n",
       "\t<li>1</li>\n",
       "\t<li>4</li>\n",
       "\t<li>8</li>\n",
       "\t<li>10</li>\n",
       "</ol>\n",
       "</li>\n",
       "\t<li><ol class=list-inline>\n",
       "\t<li>6</li>\n",
       "\t<li>2</li>\n",
       "\t<li>1</li>\n",
       "\t<li>4</li>\n",
       "\t<li>8</li>\n",
       "\t<li>10</li>\n",
       "</ol>\n",
       "</li>\n",
       "\t<li><ol class=list-inline>\n",
       "\t<li>6</li>\n",
       "\t<li>2</li>\n",
       "\t<li>8</li>\n",
       "\t<li>10</li>\n",
       "</ol>\n",
       "</li>\n",
       "</ol>\n"
      ],
      "text/latex": [
       "\\begin{enumerate}\n",
       "\\item \\begin{enumerate*}\n",
       "\\item 6\n",
       "\\item 2\n",
       "\\item 1\n",
       "\\item 6\n",
       "\\item 4\n",
       "\\item 7\n",
       "\\item 1\n",
       "\\item 7\n",
       "\\item 8\n",
       "\\item 10\n",
       "\\item 8\n",
       "\\item 1\n",
       "\\item 2\n",
       "\\item 1\n",
       "\\item 6\n",
       "\\end{enumerate*}\n",
       "\n",
       "\\item \\begin{enumerate*}\n",
       "\\item 6\n",
       "\\item 2\n",
       "\\item 1\n",
       "\\item 4\n",
       "\\item 8\n",
       "\\item 10\n",
       "\\end{enumerate*}\n",
       "\n",
       "\\item \\begin{enumerate*}\n",
       "\\item 6\n",
       "\\item 2\n",
       "\\item 1\n",
       "\\item 4\n",
       "\\item 8\n",
       "\\item 10\n",
       "\\end{enumerate*}\n",
       "\n",
       "\\item \\begin{enumerate*}\n",
       "\\item 6\n",
       "\\item 2\n",
       "\\item 8\n",
       "\\item 10\n",
       "\\end{enumerate*}\n",
       "\n",
       "\\end{enumerate}\n"
      ],
      "text/markdown": [
       "1. 1. 6\n",
       "2. 2\n",
       "3. 1\n",
       "4. 6\n",
       "5. 4\n",
       "6. 7\n",
       "7. 1\n",
       "8. 7\n",
       "9. 8\n",
       "10. 10\n",
       "11. 8\n",
       "12. 1\n",
       "13. 2\n",
       "14. 1\n",
       "15. 6\n",
       "\n",
       "\n",
       "\n",
       "2. 1. 6\n",
       "2. 2\n",
       "3. 1\n",
       "4. 4\n",
       "5. 8\n",
       "6. 10\n",
       "\n",
       "\n",
       "\n",
       "3. 1. 6\n",
       "2. 2\n",
       "3. 1\n",
       "4. 4\n",
       "5. 8\n",
       "6. 10\n",
       "\n",
       "\n",
       "\n",
       "4. 1. 6\n",
       "2. 2\n",
       "3. 8\n",
       "4. 10\n",
       "\n",
       "\n",
       "\n",
       "\n",
       "\n"
      ],
      "text/plain": [
       "[[1]]\n",
       " [1]  6  2  1  6  4  7  1  7  8 10  8  1  2  1  6\n",
       "\n",
       "[[2]]\n",
       "[1]  6  2  1  4  8 10\n",
       "\n",
       "[[3]]\n",
       "[1]  6  2  1  4  8 10\n",
       "\n",
       "[[4]]\n",
       "[1]  6  2  8 10\n"
      ]
     },
     "metadata": {},
     "output_type": "display_data"
    }
   ],
   "source": [
    "accumulate(l, intersect)"
   ]
  },
  {
   "cell_type": "code",
   "execution_count": 96,
   "id": "06d75869",
   "metadata": {},
   "outputs": [
    {
     "data": {
      "text/html": [
       "17"
      ],
      "text/latex": [
       "17"
      ],
      "text/markdown": [
       "17"
      ],
      "text/plain": [
       "[1] 17"
      ]
     },
     "metadata": {},
     "output_type": "display_data"
    },
    {
     "data": {
      "text/html": [
       "<ol class=list-inline>\n",
       "\t<li>4</li>\n",
       "\t<li>7</li>\n",
       "\t<li>17</li>\n",
       "</ol>\n"
      ],
      "text/latex": [
       "\\begin{enumerate*}\n",
       "\\item 4\n",
       "\\item 7\n",
       "\\item 17\n",
       "\\end{enumerate*}\n"
      ],
      "text/markdown": [
       "1. 4\n",
       "2. 7\n",
       "3. 17\n",
       "\n",
       "\n"
      ],
      "text/plain": [
       "[1]  4  7 17"
      ]
     },
     "metadata": {},
     "output_type": "display_data"
    }
   ],
   "source": [
    "\n",
    "x <- c(4, 3, 10)\n",
    "reduce(x, `+`)\n",
    "\n",
    "accumulate(x, `+`)"
   ]
  }
 ],
 "metadata": {
  "kernelspec": {
   "display_name": "R",
   "language": "R",
   "name": "ir"
  },
  "language_info": {
   "codemirror_mode": "r",
   "file_extension": ".r",
   "mimetype": "text/x-r-source",
   "name": "R",
   "pygments_lexer": "r",
   "version": "4.1.3"
  }
 },
 "nbformat": 4,
 "nbformat_minor": 5
}
