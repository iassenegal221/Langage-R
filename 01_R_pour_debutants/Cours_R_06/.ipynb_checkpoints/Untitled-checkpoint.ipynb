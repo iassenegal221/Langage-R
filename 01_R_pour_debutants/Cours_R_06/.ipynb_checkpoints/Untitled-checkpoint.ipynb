{
 "cells": [
  {
   "cell_type": "markdown",
   "id": "07efbd42",
   "metadata": {},
   "source": [
    "# Analyse statistiques"
   ]
  },
  {
   "cell_type": "markdown",
   "id": "04f2f5b9",
   "metadata": {},
   "source": [
    "## Les distributions de probabilités\n",
    "\n",
    "Une loi de probabilité décrit de manière théorique le caractère aléatoire d'une expérience qui est considérée comme aléatoire"
   ]
  },
  {
   "cell_type": "markdown",
   "id": "3fd04dbe",
   "metadata": {},
   "source": [
    "### Loi normales"
   ]
  },
  {
   "cell_type": "markdown",
   "id": "4e0e4d59",
   "metadata": {},
   "source": [
    "$$ f(x) = \\frac{1}{\\sigma\\sqrt{2\\pi}} \n",
    "  \\exp\\left( -\\frac{1}{2}\\left(\\frac{x-\\mu}{\\sigma}\\right)^{\\!2}\\,\\right)$$"
   ]
  },
  {
   "cell_type": "code",
   "execution_count": 10,
   "id": "e4624df6",
   "metadata": {},
   "outputs": [],
   "source": [
    "x=rnorm(n=50000)"
   ]
  },
  {
   "cell_type": "code",
   "execution_count": 11,
   "id": "a1325239",
   "metadata": {},
   "outputs": [
    {
     "data": {
      "image/png": "[encoded data removed]",
      "text/plain": [
       "Plot with title \"Histogram of x\""
      ]
     },
     "metadata": {},
     "output_type": "display_data"
    }
   ],
   "source": [
    "hist(x,breaks=40)"
   ]
  },
  {
   "cell_type": "code",
   "execution_count": 12,
   "id": "c67d66e2",
   "metadata": {},
   "outputs": [
    {
     "data": {
      "image/png": "[encoded data removed]",
      "text/plain": [
       "Plot with title \"density.default(x = x)\""
      ]
     },
     "metadata": {},
     "output_type": "display_data"
    }
   ],
   "source": [
    "plot(density(x))"
   ]
  },
  {
   "cell_type": "code",
   "execution_count": 13,
   "id": "749e18ad",
   "metadata": {},
   "outputs": [
    {
     "data": {
      "text/html": [
       "0.241970724519143"
      ],
      "text/latex": [
       "0.241970724519143"
      ],
      "text/markdown": [
       "0.241970724519143"
      ],
      "text/plain": [
       "[1] 0.2419707"
      ]
     },
     "metadata": {},
     "output_type": "display_data"
    }
   ],
   "source": [
    "dnorm(1, mean = 0, sd = 1, log = FALSE)"
   ]
  },
  {
   "cell_type": "markdown",
   "id": "3cc73697",
   "metadata": {},
   "source": [
    "### Loi uniform\n",
    "\n",
    "$f(x)=\\frac{1}{b-a}$ si $x\\in ]a,b]$ et 0 sinon"
   ]
  },
  {
   "cell_type": "code",
   "execution_count": null,
   "id": "6896717c",
   "metadata": {},
   "outputs": [],
   "source": [
    "runif"
   ]
  },
  {
   "cell_type": "code",
   "execution_count": null,
   "id": "340e2a0c",
   "metadata": {},
   "outputs": [],
   "source": [
    "dunif(x, min = 0, max = 1, log = FALSE)"
   ]
  },
  {
   "cell_type": "markdown",
   "id": "b0e838b1",
   "metadata": {},
   "source": [
    "# La loi de poisson\n"
   ]
  },
  {
   "cell_type": "markdown",
   "id": "50f2d6e6",
   "metadata": {},
   "source": [
    "$$P\\left( x \\right) = \\frac{{e^{ - \\lambda } \\lambda ^x }}{{x!}}$$"
   ]
  },
  {
   "cell_type": "code",
   "execution_count": null,
   "id": "8d0cf538",
   "metadata": {},
   "outputs": [],
   "source": []
  },
  {
   "cell_type": "code",
   "execution_count": null,
   "id": "2d0507b4",
   "metadata": {},
   "outputs": [],
   "source": [
    "r=rpois(10000,5)"
   ]
  },
  {
   "cell_type": "markdown",
   "id": "a6fd5c50",
   "metadata": {},
   "source": [
    "# Regression linéaire"
   ]
  },
  {
   "cell_type": "code",
   "execution_count": 16,
   "id": "672c5162",
   "metadata": {},
   "outputs": [
    {
     "data": {
      "text/html": [
       "<table>\n",
       "<thead><tr><th scope=col>speed</th><th scope=col>dist</th></tr></thead>\n",
       "<tbody>\n",
       "\t<tr><td>4 </td><td> 2</td></tr>\n",
       "\t<tr><td>4 </td><td>10</td></tr>\n",
       "\t<tr><td>7 </td><td> 4</td></tr>\n",
       "\t<tr><td>7 </td><td>22</td></tr>\n",
       "\t<tr><td>8 </td><td>16</td></tr>\n",
       "\t<tr><td>9 </td><td>10</td></tr>\n",
       "</tbody>\n",
       "</table>\n"
      ],
      "text/latex": [
       "\\begin{tabular}{r|ll}\n",
       " speed & dist\\\\\n",
       "\\hline\n",
       "\t 4  &  2\\\\\n",
       "\t 4  & 10\\\\\n",
       "\t 7  &  4\\\\\n",
       "\t 7  & 22\\\\\n",
       "\t 8  & 16\\\\\n",
       "\t 9  & 10\\\\\n",
       "\\end{tabular}\n"
      ],
      "text/markdown": [
       "\n",
       "| speed | dist |\n",
       "|---|---|\n",
       "| 4  |  2 |\n",
       "| 4  | 10 |\n",
       "| 7  |  4 |\n",
       "| 7  | 22 |\n",
       "| 8  | 16 |\n",
       "| 9  | 10 |\n",
       "\n"
      ],
      "text/plain": [
       "  speed dist\n",
       "1 4      2  \n",
       "2 4     10  \n",
       "3 7      4  \n",
       "4 7     22  \n",
       "5 8     16  \n",
       "6 9     10  "
      ]
     },
     "metadata": {},
     "output_type": "display_data"
    },
    {
     "data": {
      "text/html": [
       "50"
      ],
      "text/latex": [
       "50"
      ],
      "text/markdown": [
       "50"
      ],
      "text/plain": [
       "[1] 50"
      ]
     },
     "metadata": {},
     "output_type": "display_data"
    }
   ],
   "source": [
    "head(cars)\n",
    "nrow(cars)"
   ]
  },
  {
   "cell_type": "code",
   "execution_count": null,
   "id": "38a7fc8e",
   "metadata": {},
   "outputs": [],
   "source": []
  },
  {
   "cell_type": "code",
   "execution_count": null,
   "id": "faa1c5ea",
   "metadata": {},
   "outputs": [],
   "source": [
    "linearMod <- lm(dist ~ speed, data=cars)  # build linear regression model on full data\n",
    "print(linearMod)\n",
    "summary(linearMod)"
   ]
  },
  {
   "cell_type": "markdown",
   "id": "cf34d5fb",
   "metadata": {},
   "source": [
    "###  evaluation des modeles\n",
    "The Akaike’s information criterion - AIC (Akaike, 1974) : AIC = (−2) × ln(L) + (2×k)\n",
    "\n",
    "Bayesian information criterion - BIC (Schwarz, 1978): BIC = (−2) × ln(L) + k × ln(n)"
   ]
  },
  {
   "cell_type": "code",
   "execution_count": null,
   "id": "dd1b471b",
   "metadata": {},
   "outputs": [],
   "source": [
    "AIC(linearMod)  \n",
    "BIC(linearMod)  "
   ]
  }
 ],
 "metadata": {
  "kernelspec": {
   "display_name": "R",
   "language": "R",
   "name": "ir"
  },
  "language_info": {
   "codemirror_mode": "r",
   "file_extension": ".r",
   "mimetype": "text/x-r-source",
   "name": "R",
   "pygments_lexer": "r",
   "version": "3.6.1"
  }
 },
 "nbformat": 4,
 "nbformat_minor": 5
}
